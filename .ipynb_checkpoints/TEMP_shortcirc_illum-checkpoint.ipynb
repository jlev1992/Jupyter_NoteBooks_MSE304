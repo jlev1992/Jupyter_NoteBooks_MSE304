{
 "cells": [
  {
   "cell_type": "markdown",
   "metadata": {},
   "source": [
    "Question Code: solarcell_shortcirc_number\n",
    "\n",
    "Solution by Joshua Leveillee\n",
    "\n",
    "Question\n",
    "\n",
    "<p>\n",
    "A solar cell under an illumination of {{params.ill1}}\n",
    "Wm$^{-2}$ has a short circuit current of {{params.isc1}} mA and an\n",
    "open circuit output voltage of {{params.osc1}} V. Assume that the\n",
    "solar cell is at 300 K, the ideality factor is {{params.ideal}}, and\n",
    "$V_{oc}\\gg \\frac{\\eta kT}{q}$.\n",
    "</p>\n",
    "<p>\n",
    "What is the short circuit current when the light intensity is\n",
    "{{params.ill2}} Wm$^{-2}$? \n",
    "</p>\n",
    "<p>\n",
    "Your solution: $I_{sc} =$ <input data-instavalue=\"submittedAnswer.isc2\" /> mA.\n",
    "</p>\n",
    "\n",
    "______\n",
    "\n"
   ]
  }
 ],
 "metadata": {
  "kernelspec": {
   "display_name": "Python 3",
   "language": "python",
   "name": "python3"
  },
  "language_info": {
   "codemirror_mode": {
    "name": "ipython",
    "version": 3
   },
   "file_extension": ".py",
   "mimetype": "text/x-python",
   "name": "python",
   "nbconvert_exporter": "python",
   "pygments_lexer": "ipython3",
   "version": "3.7.1"
  }
 },
 "nbformat": 4,
 "nbformat_minor": 2
}
