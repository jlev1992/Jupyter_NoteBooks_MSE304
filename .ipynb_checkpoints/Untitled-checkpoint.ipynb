{
 "cells": [
  {
   "cell_type": "markdown",
   "metadata": {},
   "source": [
    "Problem Code: gaussian_overlap_number\n",
    "\n",
    "Solution by Joshua Levellee\n",
    "\n",
    "Problem Statement: We can get a rough idea of how similar two states $\\psi_{1}$ and $\\psi_{2} dr$ are by calculating their overlap integral $\\int_\\infty^{\\infty} \\psi_{1}^{*}\\psi_{2} dr$. Consider two electrons that are both in states of the form $\\psi(r)=Ae^{-r^2/2a^2}$, where $a$ is in Angstroms and A is the normalization constant. (Note that r is a vector!). Assume two such gaussian are centered $b$ Angstroms apart on the $z$-axis so that they are at position $(0,0,b/2)$ and $(0,0,-b/2)$, in $(x,y,z)$ format. What is the overlap of these states?\n",
    "\n",
    "Solution, the first thing to do is put everything into cylindrical coordinates. Our wave function in terms of x,y,z is:\n",
    "\n",
    "\\begin{equation}\n",
    "\\psi(x,y,z) = Ae^{-\\frac{(x^2+y^2+z^2)}{2a^2}}=Ae^{-\\frac{(r^2+z^2)}{2a^2}}\n",
    "\\end{equation}\n",
    "\n",
    "Then, the two wave function centered at $(0,0,b/2)$ and $(0,0,-b/2)$ are:\n",
    "\n",
    "\\begin{equation}\n",
    "\\psi_1(r,z) = Ae^{-\\frac{(r^2+(z-(b/2))^2)}{2a^2}}\n",
    "\\end{equation}\n",
    "\n",
    "\\begin{equation}\n",
    "\\psi_2(r,z) = Ae^{-\\frac{(r^2+(z+(b/2))^2)}{2a^2}}\n",
    "\\end{equation}\n",
    "\n",
    "The overlap in cylindrical coordinates is then:\n",
    "\n",
    "\\begin{equation}\n",
    "\\langle \\psi_1(r,z) | \\psi_2(r,z) \\rangle = \\int_{0}^{\\infty} \\int_{\\infty}^{\\infty}\\int_0^{2\\pi}\\psi_1(r,z)^{*}\\psi_2(r,z)rdrdzd\\theta\n",
    "\\end{equation}\n",
    "\n",
    "We know that $A^2=(\\pi a^2)^{-3/2}$ from the normalization condition. Writing out the expression for the WFs and simplifying gets us to:\n",
    "\n",
    "\\begin{equation}\n",
    "\\langle \\psi_1(r,z) | \\psi_2(r,z) \\rangle = (\\pi a^2)^{-3/2}\\int_{0}^{2\\pi}d\\theta \\int_{0}^{\\infty}re^{-r^2/a^2}dr \\int_{-\\infty}^{\\infty}e^{-2z^2/2a^2}e^{-b^2/4a^2}dz\n",
    "\\end{equation}\n",
    "\n",
    "\\begin{equation}\n",
    "\\langle \\psi_1(r,z) | \\psi_2(r,z) \\rangle = (\\pi a^2)^{-3/2}2\\pi \\frac{a^2\\Gamma(1)}{2} \\int_{-\\infty}^{\\infty}e^{-2z^2/2a^2}e^{-b^2/4a^2}dz\n",
    "\\end{equation}\n",
    "\n",
    "\\begin{equation}\n",
    "\\langle \\psi_1(r,z) | \\psi_2(r,z) \\rangle = \\sqrt{\\frac{1}{\\pi a^2}} \\int_{-\\infty}^{\\infty}e^{-2z^2/2a^2}e^{-b^2/4a^2}dz\n",
    "\\end{equation}\n",
    "\n",
    "\\begin{equation}\n",
    "\\langle \\psi_1(r,z) | \\psi_2(r,z) \\rangle = \\sqrt{\\frac{1}{\\pi a^2}} \\sqrt{\\pi a^2} e^{-b^2/4a^2}\n",
    "\\end{equation}\n",
    "\n",
    "\\begin{equation}\n",
    "\\langle \\psi_1(r,z) | \\psi_2(r,z) \\rangle =  e^{-b^2/4a^2}\n",
    "\\end{equation}"
   ]
  },
  {
   "cell_type": "code",
   "execution_count": 5,
   "metadata": {},
   "outputs": [
    {
     "name": "stdout",
     "output_type": "stream",
     "text": [
      "The overlap value is  0.3138255065696597\n"
     ]
    }
   ],
   "source": [
    "##Inputs\n",
    "import math\n",
    "\n",
    "a = 0.98 ## Angstroms\n",
    "b = 2.11 ## WF seperation in Angstroms\n",
    "\n",
    "overlap = math.exp((-b*b)/(4*a*a))\n",
    "\n",
    "print('The overlap value is ',overlap)"
   ]
  },
  {
   "cell_type": "code",
   "execution_count": null,
   "metadata": {},
   "outputs": [],
   "source": []
  }
 ],
 "metadata": {
  "kernelspec": {
   "display_name": "Python 3",
   "language": "python",
   "name": "python3"
  },
  "language_info": {
   "codemirror_mode": {
    "name": "ipython",
    "version": 3
   },
   "file_extension": ".py",
   "mimetype": "text/x-python",
   "name": "python",
   "nbconvert_exporter": "python",
   "pygments_lexer": "ipython3",
   "version": "3.7.1"
  }
 },
 "nbformat": 4,
 "nbformat_minor": 2
}
