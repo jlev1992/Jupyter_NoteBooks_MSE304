{
 "cells": [
  {
   "cell_type": "markdown",
   "metadata": {},
   "source": [
    "Problem Code: angularmomentum_total_number\n",
    "\n",
    "Solution by Joshua Leveillee\n",
    "\n",
    "An electron has orbital angular momentum $L$ and spin angular momentum $S$. In general, both are present simultaneously and a total angular momentum, called $J$, is introduced. This total angular momentum is also associated with a quantum number $j$, for which holds:\n",
    "\n",
    "\\begin{equation}\n",
    "J^2 = \\hbar^2j(j+1)\n",
    "\\end{equation}\n",
    "\n",
    "\\begin{equation}\n",
    "j = |l \\pm s|\n",
    "\\end{equation}\n",
    "\n",
    "If an electron is in the $n_{s}$, $n_{p}$, $n_{d}$, or $n_{f}$ state (one of these will be given in the problem), how many $j$ are associated with each and what is the highest total angular momentum quantum number $j$?\n",
    "\n",
    "Solution: $l=0,1,2,3$ for s, p, d, and f orbitals. There are two $j$ per $l$, as $s$ takes the value $-1/2$ or $1/2$. The highest is simply $l+1/2$."
   ]
  },
  {
   "cell_type": "code",
   "execution_count": null,
   "metadata": {},
   "outputs": [],
   "source": []
  }
 ],
 "metadata": {
  "kernelspec": {
   "display_name": "Python 3",
   "language": "python",
   "name": "python3"
  },
  "language_info": {
   "codemirror_mode": {
    "name": "ipython",
    "version": 3
   },
   "file_extension": ".py",
   "mimetype": "text/x-python",
   "name": "python",
   "nbconvert_exporter": "python",
   "pygments_lexer": "ipython3",
   "version": "3.7.1"
  }
 },
 "nbformat": 4,
 "nbformat_minor": 2
}
