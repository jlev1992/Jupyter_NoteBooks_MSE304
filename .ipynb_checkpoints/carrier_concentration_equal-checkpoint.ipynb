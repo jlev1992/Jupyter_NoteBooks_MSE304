{
 "cells": [
  {
   "cell_type": "markdown",
   "metadata": {},
   "source": [
    "Problem Code: carrier_concentration_equal\n",
    "\n",
    "Solution by Joshua Leveillee\n",
    "\n",
    "Question: \n",
    "\n",
    "<pl_question_panel>\n",
    "<p>The energy gap of germanium is ~0.66 eV. The intrinsic carrier concentration at room temperature is $2 \\times 10^{13}$ cm$^{-3}$.\n",
    "Determine the majority carrier concentration if it is doped with $N_a$ gallium atoms, and $N_d$ arsenic atoms and the doping concentrations are comparible.\n",
    "</p>\n",
    "\n",
    "_____\n",
    "\n",
    "We must first apply the general mass-action law:\n",
    "\n",
    "\\begin{equation}\n",
    "np=n_i^2\n",
    "\\end{equation}\n",
    "\n",
    "Then, we know the net charge density in a material must be 0. Therefore, the amount of charge from n-type carriers, p-type carriers, ionized $N_d$, and ionized $N_a$ must sum to zero:\n",
    "\n",
    "\\begin{equation}\n",
    "\\rho = e((p-n)+(N_d-N_a)) = 0\n",
    "\\end{equation}\n",
    "\n",
    "Using the mass-action law, we can re-write as for n-type:\n",
    "\n",
    "\\begin{equation}\n",
    "n = \\frac{n_i^2}{n}+(N_d-N_a)\n",
    "\\end{equation}\n",
    "\n",
    "Since this is a quadratic equation, we can solve for $n$ (in an n-type):\n",
    "\n",
    "\\begin{equation}\n",
    "n = \\frac{N_d-N_a}{2}+\\sqrt{\\left ( \\frac{N_d-N_a}{2} \\right )^2+n_i^2}\n",
    "\\end{equation}\n",
    "\n",
    "For p-type, the expression is similar:\n",
    "\n",
    "\\begin{equation}\n",
    "p = \\frac{N_a-N_d}{2}+\\sqrt{\\left ( \\frac{N_a-N_d}{2} \\right )^2+n_i^2}\n",
    "\\end{equation}"
   ]
  },
  {
   "cell_type": "code",
   "execution_count": 7,
   "metadata": {},
   "outputs": [
    {
     "name": "stdout",
     "output_type": "stream",
     "text": [
      "Free electron concentration is 3.23606797749979  x10^13 cm^-3\n"
     ]
    }
   ],
   "source": [
    "from numpy import sqrt\n",
    "### INPUTS ###\n",
    "Nd = 1.7E14 ## Number of donor ions in cm^-3\n",
    "Na = 1.5E14 ## Acceptors in cm^-3\n",
    "ni = 2.0E13 ## number of intrinsic carriers\n",
    "\n",
    "if Nd > Na:\n",
    "    n = (Nd-Na)/2.+sqrt(((Nd-Na)/2)**2+ni**2)\n",
    "    print(\"Free electron concentration is\",n/1E13,\" x10^13 cm^-3\")\n",
    "\n",
    "if Na > Nd:\n",
    "    p = (Na-Nd)/2.+sqrt(((Na-Nd)/2)**2+ni**2)\n",
    "    print(\"Free hole concentration is\",p/1E13,\" x10^13 cm^-3\")"
   ]
  },
  {
   "cell_type": "code",
   "execution_count": null,
   "metadata": {},
   "outputs": [],
   "source": []
  }
 ],
 "metadata": {
  "kernelspec": {
   "display_name": "Python 3",
   "language": "python",
   "name": "python3"
  },
  "language_info": {
   "codemirror_mode": {
    "name": "ipython",
    "version": 3
   },
   "file_extension": ".py",
   "mimetype": "text/x-python",
   "name": "python",
   "nbconvert_exporter": "python",
   "pygments_lexer": "ipython3",
   "version": "3.7.1"
  }
 },
 "nbformat": 4,
 "nbformat_minor": 2
}
