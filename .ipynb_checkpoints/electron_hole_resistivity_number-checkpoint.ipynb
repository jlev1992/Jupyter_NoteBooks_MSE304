{
 "cells": [
  {
   "cell_type": "markdown",
   "metadata": {},
   "source": [
    "Problem Code electron_hole_resistivity_number\n",
    "\n",
    "Solution by Joshua Leveillee\n",
    "\n",
    "Problem:\n",
    "\n",
    "<p>\n",
    "The intrinsic carrier concentration of Si at 300 K is $1.5\\cdot\n",
    "10^{10}$ cm$^{-3}$. Suppose the electron mobility is\n",
    "{{params.mobilityn}} cm$^{2}$/Vs and the hole mobility is\n",
    "{{params.mobilityp}} cm$^{2}$/Vs for an undoped Si sample at 300 K.\n",
    "</p>\n",
    "<p>\n",
    "What is the resistivity of this undoped Si sample at 300 K?\n",
    "    \n",
    "________\n",
    "\n",
    "Solution:\n",
    "\n",
    "Mobility in a semiconductor is given by:\n",
    "\n",
    "\\begin{equation}\n",
    "\\sigma = ep\\mu_e + en\\mu_h\n",
    "\\end{equation}\n",
    "\n",
    "Where $p$ is the hole concentration, $n$ is the electron concentration, and $\\mu_e$ and $\\mu_h$ are the electron and hole mobilities, respectively. Resistance is given by the inverse of conductivity:\n",
    "\n",
    "\\begin{equation}\n",
    "\\rho = \\frac{1}{\\sigma} = \\frac{1}{ep\\mu_e + en\\mu_h}\n",
    "\\end{equation}"
   ]
  },
  {
   "cell_type": "code",
   "execution_count": 4,
   "metadata": {},
   "outputs": [
    {
     "name": "stdout",
     "output_type": "stream",
     "text": [
      "Resistivity is  2.9326743027640165 x10^5 Ohm-cm\n"
     ]
    }
   ],
   "source": [
    "## Inputs ##\n",
    "n = 1.5E10 ## cm^-3\n",
    "p = n\n",
    "mue = 1244 ## cm^2/Vs\n",
    "muh = 175 ## cm^2/Vs\n",
    "e = 1.602E-19\n",
    "\n",
    "rho = 1./(n*e*mue+p*e*muh)\n",
    "\n",
    "print(\"Resistivity is \",rho*1E-5,\"x10^5 Ohm-cm\")"
   ]
  },
  {
   "cell_type": "code",
   "execution_count": null,
   "metadata": {},
   "outputs": [],
   "source": []
  }
 ],
 "metadata": {
  "kernelspec": {
   "display_name": "Python 3",
   "language": "python",
   "name": "python3"
  },
  "language_info": {
   "codemirror_mode": {
    "name": "ipython",
    "version": 3
   },
   "file_extension": ".py",
   "mimetype": "text/x-python",
   "name": "python",
   "nbconvert_exporter": "python",
   "pygments_lexer": "ipython3",
   "version": "3.7.1"
  }
 },
 "nbformat": 4,
 "nbformat_minor": 2
}
