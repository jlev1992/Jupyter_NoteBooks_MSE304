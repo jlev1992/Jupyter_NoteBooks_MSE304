{
 "cells": [
  {
   "cell_type": "markdown",
   "metadata": {},
   "source": [
    "Problem Code: harmonicosc_change_w_expectation_number\n",
    "\n",
    "Solution by Joshua Leveillee\n",
    "\n",
    "Problem Statement: A harmonic oscillator has a potential $\\hat{V_\\omega}=\\frac{1}{2}m\\omega^2x^2$. The ground state of a harmonic oscillator is $\\psi_0(x)=Ae^{-\\frac{x^2m\\omega}{2\\hbar}}$\n",
    " with energy $E=\\frac{1}{2}\\hbar\\omega$\n",
    "\n",
    "What is the expectation value of the potential energy operator in the ground state? The kinetic energy operator? (Just answer these for yourself to help you reach the answer below)\n",
    "\n",
    "Suppose an atom in an optical trap is prepared in the ground state of a harmonic oscillator potential with frequency $\\omega$. The frequency is then quickly increased by a factor of $\\alpha$, and the wave function has not had time to evolve from its initial state.\n",
    "\n",
    "What is the new expectation value of the energy of the wave function?\n",
    "\n",
    "Solution:\n",
    "\n",
    "So, let's first start with solving for the expectation values of poential energy $\\langle V \\rangle$ and kinetic energy $\\langle T \\rangle$ in the ground state:\n",
    "\n",
    "\\begin{equation}\n",
    "\\langle V_\\omega \\rangle = \\int_{-\\infty}^{\\infty}\\psi_0^{*}(x)\\hat{V_\\omega}\\psi_0(x)dx = \\frac{1}{2}A^2m\\omega^2\\int_{-\\infty}^{\\infty}x^2e^{-\\frac{x^2m\\omega}{\\hbar}}dx\n",
    "\\end{equation}\n",
    "\n",
    "Use the integral solution:\n",
    "\n",
    "\\begin{equation}\n",
    "\\int_{\\infty}^{\\infty}x^2 e^{-ax^2} = \\frac{1}{2}\\sqrt{\\frac{\\pi}{a^3}}\n",
    "\\end{equation}\n",
    "\n",
    "And you can derive the final equation:\n",
    "\n",
    "\\begin{equation}\n",
    "\\langle V_\\omega \\rangle = \\frac{1}{4}\\hbar\\omega\n",
    "\\end{equation}\n",
    "\n",
    "For the kinetic energy:\n",
    "\n",
    "\\begin{equation}\n",
    "\\langle T_\\omega \\rangle = \\int_{-\\infty}^{\\infty}\\psi_0^{*}(x)\\hat{T}\\psi_0(x)dx = \\int_{-\\infty}^{\\infty}\\psi_0^{*}(x)\\frac{-\\hbar^2}{2m}\\frac{d^2}{dx^2}\\psi_0(x)dx\n",
    "\\end{equation}\n",
    "\n",
    "And you can derive:\n",
    "\n",
    "\\begin{equation}\n",
    "\\langle T \\rangle = \\frac{1}{4}\\hbar\\omega\n",
    "\\end{equation}\n",
    "\n",
    "It turns out that in the ground state ($n=0$) that these are equal and their sum gives the total ground state energy.\n",
    "\n",
    "Now, what happens if we suddenly change the potential well to $\\hat{V_\\omega}=\\frac{1}{2}m(\\alpha\\omega)^2x^2$ by adjusting $\\omega$ by a parameter $alpha$. Since the change is sudden, the ground state remains $\\psi_0(x)=Ae^{-\\frac{x^2m\\omega}{2\\hbar}}$, and solving for the new $\\langle V_{\\alpha\\omega} \\rangle$ gives:\n",
    "\n",
    "\\begin{equation}\n",
    "\\langle V_{\\alpha\\omega} \\rangle = \\int_{-\\infty}^{\\infty}\\psi_0^{*}(x)\\hat{V_{\\alpha\\omega}}\\psi_0(x)dx = \\alpha^2\\left (\\frac{1}{2}A^2m\\omega^2\\int_{-\\infty}^{\\infty}x^2e^{-\\frac{x^2m\\omega}{\\hbar}}dx \\right )\n",
    "\\end{equation}\n",
    "\n",
    "Thus, after the perturbation, $\\langle V_{\\alpha\\omega} \\rangle = \\alpha^2 \\langle V_{\\omega} \\rangle$. A change to the potential does not change the kinetic energy expectation value. Thus, the final energy becomes:\n",
    "\n",
    "\\begin{equation}\n",
    "\\langle E_{\\alpha,0}\\rangle= \\langle V_{\\alpha\\omega} \\rangle + \\langle T \\rangle = \\alpha^2 \\langle V_{\\omega} \\rangle+\\langle T \\rangle=\\hbar \\frac{\\omega}{4}\\left ( \\alpha^2+1 \\right )\n",
    "\\end{equation}\n",
    "\n"
   ]
  },
  {
   "cell_type": "code",
   "execution_count": null,
   "metadata": {},
   "outputs": [],
   "source": []
  }
 ],
 "metadata": {
  "kernelspec": {
   "display_name": "Python 3",
   "language": "python",
   "name": "python3"
  },
  "language_info": {
   "codemirror_mode": {
    "name": "ipython",
    "version": 3
   },
   "file_extension": ".py",
   "mimetype": "text/x-python",
   "name": "python",
   "nbconvert_exporter": "python",
   "pygments_lexer": "ipython3",
   "version": "3.7.1"
  }
 },
 "nbformat": 4,
 "nbformat_minor": 2
}
