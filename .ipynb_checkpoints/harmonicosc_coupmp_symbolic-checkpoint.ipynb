{
 "cells": [
  {
   "cell_type": "markdown",
   "metadata": {},
   "source": [
    "Probblem code: harmonicosc_coupmm_symbolic\n",
    "\n",
    "\n",
    "Solution by Joshua Leveillee\n",
    "\n",
    "<p>\n",
    "Think of an atom as a positive nucleus and negative electrons. When\n",
    "the electron cloud gets shifted off-center, the atom looks like a\n",
    "dipole with one side positive and the other side negative. We treat\n",
    "this as a one-dimensional problem here, in which case the situation\n",
    "looks like this:\n",
    "</p>\n",
    "<p>\n",
    "<img src=\"oscillator.png\">\n",
    "</p>\n",
    "<p>\n",
    "We now bring these atoms together and the Hamiltonian for this system\n",
    "is given by\n",
    "</p>\n",
    "<p>\n",
    "$\\hat{H} = \\hat{H}_1 + \\hat{H}_2 + \\hat{H}_c$.\n",
    "</p>\n",
    "<p>\n",
    "$\\hat{H}_1$ and $\\hat{H}_2$ are the harmonic oscillator Hamiltonians\n",
    "of the individual atoms\n",
    "</p>\n",
    "<p>\n",
    "$\\hat{H}_1 = \\frac{\\hat{p}_1^2}{2m} + \\frac{1}{2} C x_1^2$.\n",
    "</p>\n",
    "<p>\n",
    "For now we want to focus on the <i>coupling</i> term, $\\hat{H}_c$,\n",
    "that only includes contributions that mix both atoms, i.e., their\n",
    "Coulomb interactions. Recall that the Coulomb potential between two\n",
    "charges is given by\n",
    "</p>\n",
    "<p>\n",
    "$V(r_1,r_2) = \\frac{1}{4\\pi\\epsilon_0}\\frac{q_1\n",
    "q_2}{\\left|r_1-r_2\\right|} \\equiv K \\frac{\\mathrm{sign}(q_1 q_2)}{\\left|r_1-r_2\\right|}$,\n",
    "</p>\n",
    "<p>\n",
    "where $K=\\frac{e^2}{4\\pi\\epsilon_0}$ is a constant. The coupling term\n",
    "$\\hat{H}_c$ can be written as a sum of four Coulomb terms\n",
    "</p>\n",
    "<p>\n",
    "$\\hat{H}_c = V_{++}+V_{+-}+V_{-+}+V_{--}$.\n",
    "</p>\n",
    "<p>\n",
    "These describe the interaction between the two positive charges, the\n",
    "two negative charges, and the positive and negative charges of both\n",
    "atoms. Assume $R>x_1$ and $R>x_2$ because the electrons stay close to\n",
    "their nuclei.\n",
    "</p>\n",
    "<p>\n",
    "What is the expression for $V_{--}$?\n",
    "</p>\n",
    "\n",
    "Solution:\n",
    "\n",
    "The distane between the first negative charge and the second positive charges is $(R-x1)$. Since charges opposite sign, the sign is positive. Thus, in syntax form the answer is -K/(R-x1)."
   ]
  },
  {
   "cell_type": "code",
   "execution_count": null,
   "metadata": {},
   "outputs": [],
   "source": []
  }
 ],
 "metadata": {
  "kernelspec": {
   "display_name": "Python 3",
   "language": "python",
   "name": "python3"
  },
  "language_info": {
   "codemirror_mode": {
    "name": "ipython",
    "version": 3
   },
   "file_extension": ".py",
   "mimetype": "text/x-python",
   "name": "python",
   "nbconvert_exporter": "python",
   "pygments_lexer": "ipython3",
   "version": "3.7.1"
  }
 },
 "nbformat": 4,
 "nbformat_minor": 2
}
