{
 "cells": [
  {
   "cell_type": "markdown",
   "metadata": {},
   "source": [
    "Problem Code: hydrogen_changedmass_number\n",
    "\n",
    "Solution by Joshua Leveillee\n",
    "\n",
    "Problem: Consider a hydrogen atom in a material. Assume that the electron feels the interaction with the material, which you approximately descibe by reducing the mass of the electron to 29 percent of the free-electron mass. What is the wave length of the light that is emitted when an electron transitions from the $n'$ to the $n$ state of this atom?\n",
    "\n",
    "The new mass of the electron $m_e'$ of the electron is the effective mass ratio times the original electron mass, $m_e'=m^{*}m_e$. \n",
    "\n",
    "Let's plug this into the energy of the hydrogen atom:\n",
    "\n",
    "\\begin{equation}\n",
    "E = \\frac{m^{*}m_e e^4}{8n^2h^2\\varepsilon^2} = -m^{*}\\frac{13.6}{n^2}\n",
    "\\end{equation}\n",
    "\n",
    "Thus, we can simply modify the numerator by a factor of $m^{*}$."
   ]
  },
  {
   "cell_type": "code",
   "execution_count": 3,
   "metadata": {},
   "outputs": [
    {
     "name": "stdout",
     "output_type": "stream",
     "text": [
      "The emitted wavelength is:  16110.104543252599  nm\n"
     ]
    }
   ],
   "source": [
    "##Inputs ###\n",
    "mstar = 0.29\n",
    "n1 = 11\n",
    "n2 = 6\n",
    "\n",
    "E1 = -13.6*mstar*(1/(n1*n1))\n",
    "E2 = -13.6*mstar*(1/(n2*n2))\n",
    "\n",
    "E = E1-E2 #Get transition energy in eV\n",
    "\n",
    "lam = 1239.84193/E\n",
    "\n",
    "print('The emitted wavelength is: ',lam,' nm')"
   ]
  },
  {
   "cell_type": "code",
   "execution_count": null,
   "metadata": {},
   "outputs": [],
   "source": []
  }
 ],
 "metadata": {
  "kernelspec": {
   "display_name": "Python 3",
   "language": "python",
   "name": "python3"
  },
  "language_info": {
   "codemirror_mode": {
    "name": "ipython",
    "version": 3
   },
   "file_extension": ".py",
   "mimetype": "text/x-python",
   "name": "python",
   "nbconvert_exporter": "python",
   "pygments_lexer": "ipython3",
   "version": "3.7.1"
  }
 },
 "nbformat": 4,
 "nbformat_minor": 2
}
