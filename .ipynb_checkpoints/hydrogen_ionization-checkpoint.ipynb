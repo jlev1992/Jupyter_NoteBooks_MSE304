{
 "cells": [
  {
   "cell_type": "markdown",
   "metadata": {},
   "source": [
    "Problem Code: hydrogen_ionization\n",
    "\n",
    "Solution by Joshua Leveillee\n",
    "\n",
    "Problem: A hypothetical atom has one electron attracted to the nucleus with a +3e charge. What is the energy required to ionize the atom further? \n",
    "\n",
    "Solution: The Bohr model states the energy of a single electron bound to a nucleus of charge $+Ze$ is:\n",
    "\n",
    "\\begin{equation}\n",
    "E = -\\frac{Z^2me^4}{8n^2h^2\\varepsilon_0^2} = -\\frac{13.6Z^2}{n^2}\n",
    "\\end{equation}\n",
    "\n",
    "The ionization energy is the energy required to take the electron from $n=1$ to $n\\rightarrow\\infty$, and is equal to $13.6\\times Z^2$ eV"
   ]
  },
  {
   "cell_type": "code",
   "execution_count": null,
   "metadata": {},
   "outputs": [],
   "source": []
  }
 ],
 "metadata": {
  "kernelspec": {
   "display_name": "Python 3",
   "language": "python",
   "name": "python3"
  },
  "language_info": {
   "codemirror_mode": {
    "name": "ipython",
    "version": 3
   },
   "file_extension": ".py",
   "mimetype": "text/x-python",
   "name": "python",
   "nbconvert_exporter": "python",
   "pygments_lexer": "ipython3",
   "version": "3.7.1"
  }
 },
 "nbformat": 4,
 "nbformat_minor": 2
}
