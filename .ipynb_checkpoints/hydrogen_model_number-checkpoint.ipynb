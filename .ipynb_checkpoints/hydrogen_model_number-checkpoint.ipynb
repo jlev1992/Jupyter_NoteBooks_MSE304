{
 "cells": [
  {
   "cell_type": "markdown",
   "metadata": {},
   "source": [
    "Problem Code: hydrogen_model_number\n",
    "\n",
    "Solution by Joshua Leveillee\n",
    "\n",
    "<p>\n",
    "You have a sample of crystalline system, with a band\n",
    "gap of $E_gap$ eV, which is doped $p$-type. On\n",
    "average, the dopant atoms are far apart and you can neglect the\n",
    "interaction between them. Take the relative dielectric constant to be\n",
    "$\\varepsilon_\\mathrm{r}$ and the effective hole mass to be $m^∗_h$. (These numbers may or may not be the same as\n",
    "numbers reported online).\n",
    "</p>\n",
    "<p>\n",
    "Use the hydrogen model to estimate the energy required to remove a\n",
    "hole from an acceptor atom in the ground state.\n",
    "</p>\n",
    "\n",
    "_____\n",
    "\n",
    "Solution:\n",
    "\n",
    "The hydrogen model has energy scaling as a function proportional to $m^{*}/\\varepsilon_r^2$:\n",
    "\n",
    "\\begin{equation}\n",
    "E_{n=1} = \\frac{m^{*}}{\\varepsilon_r^2}13.6\n",
    "\\end{equation}"
   ]
  },
  {
   "cell_type": "code",
   "execution_count": 3,
   "metadata": {},
   "outputs": [
    {
     "name": "stdout",
     "output_type": "stream",
     "text": [
      "Binding energy is  0.0015405897025346097 eV\n"
     ]
    }
   ],
   "source": [
    "mstar = 0.026\n",
    "eps = 15.15\n",
    "\n",
    "E = mstar*13.6/eps**2\n",
    "\n",
    "print(\"Binding energy is \",E,\"eV\")"
   ]
  },
  {
   "cell_type": "code",
   "execution_count": null,
   "metadata": {},
   "outputs": [],
   "source": []
  }
 ],
 "metadata": {
  "kernelspec": {
   "display_name": "Python 3",
   "language": "python",
   "name": "python3"
  },
  "language_info": {
   "codemirror_mode": {
    "name": "ipython",
    "version": 3
   },
   "file_extension": ".py",
   "mimetype": "text/x-python",
   "name": "python",
   "nbconvert_exporter": "python",
   "pygments_lexer": "ipython3",
   "version": "3.7.1"
  }
 },
 "nbformat": 4,
 "nbformat_minor": 2
}
