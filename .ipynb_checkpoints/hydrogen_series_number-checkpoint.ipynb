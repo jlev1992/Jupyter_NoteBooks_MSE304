{
 "cells": [
  {
   "cell_type": "markdown",
   "metadata": {},
   "source": [
    "Problem code: hydrogen_series_number\n",
    "\n",
    "Solution by Joshua Leveillee\n",
    "\n",
    "Problem Statement: The set of all transitions from higher energy states into a given energy state of a hydrogen atom is called a series. You will investigate the Paschen series, which corresponds to all transitions from higher levels into n=3.\n",
    "\n",
    "What is the wave length range of the Paschen series?\n",
    "\n",
    "Solution: The lowest energy levels ($n=1$) of hydrogen is situated at -13.6 eV. For $n=3$, the state energy  is $E_{n=3}=-1.511$ eV. The first energy transiton down into $n=3$ can occur from $n=4$, where $E_{n=4}=-0.85$ eV. Thus, lowest transitions $E_{n=4}-E_{n=3}=0.661111$ eV, associated with 1875.39 nm light. Now, as $n\\rightarrow\\infty$, $E_{n\\rightarrow\\infty}=0$ eV. Thus, $E_{n\\rightarrow\\infty}-E_{n=3}=1.511$ eV, associated with 820.48 nm light. \n",
    "\n"
   ]
  },
  {
   "cell_type": "code",
   "execution_count": null,
   "metadata": {},
   "outputs": [],
   "source": []
  }
 ],
 "metadata": {
  "kernelspec": {
   "display_name": "Python 3",
   "language": "python",
   "name": "python3"
  },
  "language_info": {
   "codemirror_mode": {
    "name": "ipython",
    "version": 3
   },
   "file_extension": ".py",
   "mimetype": "text/x-python",
   "name": "python",
   "nbconvert_exporter": "python",
   "pygments_lexer": "ipython3",
   "version": "3.7.1"
  }
 },
 "nbformat": 4,
 "nbformat_minor": 2
}
