{
 "cells": [
  {
   "cell_type": "markdown",
   "metadata": {},
   "source": [
    "Problem Code: hydrogen_visible_photons\n",
    "\n",
    "Solution by Joshua Leveillee\n",
    "\n",
    "How many different wavelength photons of visible light (390-700 nm) can be emitted by a hydrogen atom returning to a lower-energy state after excitation from its ground state by a $\\lambda$ nm wavelength photon? Hint: An electron may change energy levels more than once while returning to the ground state.\n",
    "\n",
    "Solution: The energy levels of hydrogen are (in eV):\n",
    "\n",
    "\\begin{equation}\n",
    "E_{n} = -\\frac{13.6}{n^2}\n",
    "\\end{equation}\n",
    "\n",
    "Transitions energies down from $n$ to $n'$, where $n>n'$ take on the form:\n",
    "\n",
    "\n",
    "\\begin{equation}\n",
    "\\Delta E_{nn'} = 13.6\\left ( \\frac{1}{n'^2}-\\frac{1}{n^2} \\right )\n",
    "\\end{equation}\n",
    "\n",
    "If we have a given wavelength of light from a laser, we can on excite up to energie levels less than $E_{laser}=hc/\\lambda$. Thus, we need to figure out the value of $n_{max}$ of the hydrogen state with the energy just below this value of $E_{laser}$.\n",
    "\n",
    "Then, we can generate a collection of $\\Delta E_{nn'}$ for $n=1$ to $n_{max}$. \n"
   ]
  },
  {
   "cell_type": "code",
   "execution_count": 55,
   "metadata": {},
   "outputs": [
    {
     "name": "stdout",
     "output_type": "stream",
     "text": [
      "Energy of laser photon is  12.716327487179488 eV\n"
     ]
    }
   ],
   "source": [
    "\n",
    "from numpy import *\n",
    "import math \n",
    "from math import *\n",
    "## Inputs ##\n",
    "lam = 97.5 ## laser WL in nm\n",
    "Elaser = 1239.84193/lam\n",
    "\n",
    "print('Energy of laser photon is ',Elaser,'eV')"
   ]
  },
  {
   "cell_type": "code",
   "execution_count": 56,
   "metadata": {},
   "outputs": [
    {
     "name": "stdout",
     "output_type": "stream",
     "text": [
      "The maximum value of n is:  3\n"
     ]
    }
   ],
   "source": [
    "## No find n_max\n",
    "\n",
    "nmax = math.sqrt(-13.6/(Elaser-13.6))\n",
    "\n",
    "print('The maximum value of n is: ',math.floor(nmax))"
   ]
  },
  {
   "cell_type": "code",
   "execution_count": 57,
   "metadata": {},
   "outputs": [
    {
     "name": "stdout",
     "output_type": "stream",
     "text": [
      "1\n"
     ]
    }
   ],
   "source": [
    "MAT = np.zeros((int(nmax),int(nmax)))\n",
    "\n",
    "num_trans = 0\n",
    "for i in range(0,len(MAT)):\n",
    "    for j in range(0,len(MAT)):\n",
    "        if 13.6*((1/(i+1))-(1/(j+1))) < 3.179 and 13.6*((1/(i+1))-(1/(j+1))) > 1.77:\n",
    "            num_trans += 1\n",
    "print('The number of visible light transition are: ',num_trans)"
   ]
  }
 ],
 "metadata": {
  "kernelspec": {
   "display_name": "Python 3",
   "language": "python",
   "name": "python3"
  },
  "language_info": {
   "codemirror_mode": {
    "name": "ipython",
    "version": 3
   },
   "file_extension": ".py",
   "mimetype": "text/x-python",
   "name": "python",
   "nbconvert_exporter": "python",
   "pygments_lexer": "ipython3",
   "version": "3.7.1"
  }
 },
 "nbformat": 4,
 "nbformat_minor": 2
}
