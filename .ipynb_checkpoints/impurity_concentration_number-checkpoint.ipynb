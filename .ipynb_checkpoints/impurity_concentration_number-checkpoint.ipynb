{
 "cells": [
  {
   "cell_type": "markdown",
   "metadata": {},
   "source": [
    "Problem Code: impurity_concentration_number\n",
    "\n",
    "Solution by Joshua Leveillee\n",
    "\n",
    "Question:\n",
    "\n",
    "<p>\n",
    "A certain semiconductor is doped with $N_d$ cm$^{-3}$ and $N_a$ = 0 cm$^{-3}$.\n",
    "The intrinsic carrier concentration is $n_i$ cm$^{-3}$. $n_i$ and $N_d$ are comparible.\n",
    "</p>\n",
    "<p>\n",
    "Determine the majority carrier concentration at thermal equilibrium and from that the position of the Fermi level in the doped material relative to the intrinsic Fermi level, $E_F - E_i$, at $T$ = 300 K.\n",
    "</p>\n",
    "\n",
    "___\n",
    "\n",
    "Answer:\n",
    "\n",
    "Since $n_i$ and $N_d$ are similar, we must start with the mass action law:\n",
    "\n",
    "\\begin{equation}\n",
    "pn=n_i^2\n",
    "\\end{equation}\n",
    "\n",
    "and charge balance law:\n",
    "\n",
    "\\begin{equation}\n",
    "e(n-p+N_d-N_a) = 0\n",
    "\\end{equation}\n",
    "\n",
    "Rearranging, replacing $p$ with $n_i^2/n$, and solving the quadratic equation, we get the following expression for $n$:\n",
    "\n",
    "\\begin{equation}\n",
    "n = \\frac{N_d}{2}+\\sqrt{\\left ( \\frac{N_d}{2} \\right )^2+n_i^2}\n",
    "\\end{equation}"
   ]
  },
  {
   "cell_type": "code",
   "execution_count": 4,
   "metadata": {},
   "outputs": [
    {
     "name": "stdout",
     "output_type": "stream",
     "text": [
      "The majority carrier concentration n is 3.6084952830141517 x10^13 cm^-3\n"
     ]
    }
   ],
   "source": [
    "import numpy as np\n",
    "### INPUTS ###\n",
    "ni = 2E13 ## cm^-3\n",
    "Nd = 2.5E13 ## cm^-3\n",
    "\n",
    "n = Nd/2+np.sqrt((Nd/2.)**2+ni**2)\n",
    "\n",
    "print(\"The majority carrier concentration n is\",n/1E13,\"x10^13 cm^-3\")"
   ]
  },
  {
   "cell_type": "markdown",
   "metadata": {},
   "source": [
    "Once you have $n$, the Fermi level shift from the intrinsic level is:\n",
    "\n",
    "\\begin{equation}\n",
    "E_f-E_{f,i} = kT \\ln\\left (\\frac{n}{n_i} \\right )\n",
    "\\end{equation}"
   ]
  },
  {
   "cell_type": "code",
   "execution_count": 6,
   "metadata": {},
   "outputs": [
    {
     "name": "stdout",
     "output_type": "stream",
     "text": [
      "Shift of the fermi energy is 0.015255214277463645 eV\n"
     ]
    }
   ],
   "source": [
    "E_shift = 0.02585*np.log(n/ni)\n",
    "\n",
    "print(\"Shift of the fermi energy is\",E_shift,\"eV\")"
   ]
  },
  {
   "cell_type": "code",
   "execution_count": null,
   "metadata": {},
   "outputs": [],
   "source": []
  }
 ],
 "metadata": {
  "kernelspec": {
   "display_name": "Python 3",
   "language": "python",
   "name": "python3"
  },
  "language_info": {
   "codemirror_mode": {
    "name": "ipython",
    "version": 3
   },
   "file_extension": ".py",
   "mimetype": "text/x-python",
   "name": "python",
   "nbconvert_exporter": "python",
   "pygments_lexer": "ipython3",
   "version": "3.7.1"
  }
 },
 "nbformat": 4,
 "nbformat_minor": 2
}
