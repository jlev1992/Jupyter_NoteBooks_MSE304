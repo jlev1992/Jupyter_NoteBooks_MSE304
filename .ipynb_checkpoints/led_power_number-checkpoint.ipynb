{
 "cells": [
  {
   "cell_type": "markdown",
   "metadata": {},
   "source": [
    "Problem Code: led_power_number\n",
    "\n",
    "Solution By Joshua Leveillee\n",
    "\n",
    "Question: \n",
    "\n",
    "You're now studying an actual LED with these device parameters:\n",
    "</p>\n",
    "<p>\n",
    "<ul>\n",
    "  <li>Recombination coefficient $B$ in $10^{-16}$ cm$^{3}$ s$^{-1}$\n",
    "  <li>Intrinsic concentration $n_i$ in $10^{10}$ cm$^{-3}$\n",
    "  <li>Band gap $E_g$ in eV\n",
    "</ul>\n",
    "</p>\n",
    "<p>\n",
    "In experiment you found that the carrier concentrations are $n$ cm$^{-3}$ and $p$ cm$^{-3}$ under operating conditions.\n",
    "</p>\n",
    "<p>\n",
    "Assume that 50 % of the recombination events result in a photon that\n",
    "leaves the device and that the average photon energy is equal to the\n",
    "band gap.\n",
    "</p>\n",
    "<p>\n",
    "What is the power of the light that is emitted from 1 cm$^3$ of this\n",
    "material?\n",
    "</p>\n",
    "\n",
    "Solution:\n",
    "\n",
    "Let's define $R$ as the fraction of recombinations resulting in a photon. The Power $P$ can be calculated as:\n",
    "\n",
    "\\begin{equation}\n",
    "P = RBnpE_g\n",
    "\\end{equation}"
   ]
  },
  {
   "cell_type": "code",
   "execution_count": 3,
   "metadata": {},
   "outputs": [
    {
     "name": "stdout",
     "output_type": "stream",
     "text": [
      "The power emitted is 0.6261784921728 mW\n"
     ]
    }
   ],
   "source": [
    "### INPUTS ###\n",
    "B = 4.8E-16 ## cm^3/s\n",
    "n = 4.746E15 \n",
    "p = 0.746E15\n",
    "Eg = 4.6 ## eV\n",
    "R = 0.5\n",
    "##############\n",
    "\n",
    "Eg = Eg*1.602E-19\n",
    "\n",
    "P = R*B*n*p*Eg\n",
    "\n",
    "print('The power emitted is',P*1000,'mW')"
   ]
  },
  {
   "cell_type": "code",
   "execution_count": null,
   "metadata": {},
   "outputs": [],
   "source": []
  }
 ],
 "metadata": {
  "kernelspec": {
   "display_name": "Python 3",
   "language": "python",
   "name": "python3"
  },
  "language_info": {
   "codemirror_mode": {
    "name": "ipython",
    "version": 3
   },
   "file_extension": ".py",
   "mimetype": "text/x-python",
   "name": "python",
   "nbconvert_exporter": "python",
   "pygments_lexer": "ipython3",
   "version": "3.7.1"
  }
 },
 "nbformat": 4,
 "nbformat_minor": 2
}
