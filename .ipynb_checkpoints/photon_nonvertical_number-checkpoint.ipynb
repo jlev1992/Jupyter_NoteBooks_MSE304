{
 "cells": [
  {
   "cell_type": "markdown",
   "metadata": {},
   "source": [
    "Problem Code: photon_nonvertical_number\n",
    "\n",
    "Solution by Joshua Leveillee\n",
    "\n",
    "Problem:\n",
    "\n",
    "<p>\n",
    "Suppose a photon with wavelength {{params.lambda}} nm is absorbed in a\n",
    "cubic crystal with lattice constant $a =$ {{params.a}}\n",
    "Angstrom. Assume the photon has momentum in the positive $k_x$\n",
    "direction.\n",
    "</p>\n",
    "<p>\n",
    "How \"non-vertical\" is an optical transition in a semiconductor?\n",
    "Compute the percent of the distance from $\\Gamma$ to the Brillouin\n",
    "zone boundary covered by this transition.\n",
    "</p>\n",
    "\n",
    "Solution:\n",
    "\n",
    "You have to calculate the fraction of the momenta of the the BZ edge and the photon. The momentum of an electron at the BZ edge is:\n",
    "\n",
    "\\begin{equation}\n",
    "p_{electron} = \\hbar k = \\hbar \\frac{\\pi}{a} = \\frac{h}{2a}\n",
    "\\end{equation}\n",
    "\n",
    "The photon momentum is:\n",
    "\n",
    "\\begin{equation}\n",
    "p_{photon} = \\frac{h}{\\lambda}\n",
    "\\end{equation}\n",
    "\n",
    "So, the fraction of the BZ covered by the momentum of the photon is given by:\n",
    "\n",
    "\\begin{equation}\n",
    "f = \\frac{p_{photon}}{p_{electron} } = \\frac{2a}{\\lambda}\n",
    "\\end{equation}\n",
    "\n",
    "$f*100$ gives the percent."
   ]
  },
  {
   "cell_type": "code",
   "execution_count": 3,
   "metadata": {},
   "outputs": [
    {
     "name": "stdout",
     "output_type": "stream",
     "text": [
      "The percent of the BZ is:   0.05156017830609213  %\n"
     ]
    }
   ],
   "source": [
    "lam = 673 ## Photon wavelength in nm\n",
    "a = 1.735 ## lattice parameter in angstrom\n",
    "\n",
    "a = a/10. ## convert to nm\n",
    "fraction = 2*a/lam*100.\n",
    "\n",
    "print(\"The percent of the BZ is:  \",fraction,\" %\")\n"
   ]
  },
  {
   "cell_type": "code",
   "execution_count": null,
   "metadata": {},
   "outputs": [],
   "source": []
  }
 ],
 "metadata": {
  "kernelspec": {
   "display_name": "Python 3",
   "language": "python",
   "name": "python3"
  },
  "language_info": {
   "codemirror_mode": {
    "name": "ipython",
    "version": 3
   },
   "file_extension": ".py",
   "mimetype": "text/x-python",
   "name": "python",
   "nbconvert_exporter": "python",
   "pygments_lexer": "ipython3",
   "version": "3.7.1"
  }
 },
 "nbformat": 4,
 "nbformat_minor": 2
}
