{
 "cells": [
  {
   "cell_type": "markdown",
   "metadata": {},
   "source": [
    "Problem Code: selection_rules_m_allowed\n",
    "\n",
    "Solution by Joshua Leveillee\n",
    "\n",
    "Problem: An electron is in a $(nlm)$ state of hydrogen with and decays to a lower energy state by emission of a photon. How many different $(n'l'm')$ are optically accessible to the electron?\n",
    "\n",
    "Solution: Again, the diagramatic representation is the best way to go about this. Recall the selection rules $l\\rightarrow l\\pm1$, $n$ just has to move down, and $m\\rightarrow m\\pm1,+0$."
   ]
  },
  {
   "cell_type": "code",
   "execution_count": null,
   "metadata": {},
   "outputs": [],
   "source": []
  }
 ],
 "metadata": {
  "kernelspec": {
   "display_name": "Python 3",
   "language": "python",
   "name": "python3"
  },
  "language_info": {
   "codemirror_mode": {
    "name": "ipython",
    "version": 3
   },
   "file_extension": ".py",
   "mimetype": "text/x-python",
   "name": "python",
   "nbconvert_exporter": "python",
   "pygments_lexer": "ipython3",
   "version": "3.7.1"
  }
 },
 "nbformat": 4,
 "nbformat_minor": 2
}
