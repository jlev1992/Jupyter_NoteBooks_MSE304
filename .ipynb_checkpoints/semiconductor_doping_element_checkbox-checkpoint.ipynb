{
 "cells": [
  {
   "cell_type": "markdown",
   "metadata": {},
   "source": [
    "Problem Code: semiconductor_doping_element_checkbox\n",
    "\n",
    "Solution by Joshua Leveillee\n",
    "\n",
    "Problem: \n",
    "\n",
    "<pl_question_panel>\n",
    "<p>\n",
    "In a sample of material (given chemicla formula) which of the following elements would you expect to result in n- or p-type doping? (Based on their positions in the periodic table)\n",
    "\n",
    "</p>\n",
    "\n",
    "Answer:\n",
    "\n",
    "For n-type, you must select atoms to the right on the periodic table of the right-most element (introduce additional electrons)\n",
    "\n",
    "For p-type, you must select atoms to the left on the periodic table of the left-most element in the chemical formula (introducing a lack of electrons, aka holes).\n"
   ]
  },
  {
   "cell_type": "code",
   "execution_count": null,
   "metadata": {},
   "outputs": [],
   "source": []
  }
 ],
 "metadata": {
  "kernelspec": {
   "display_name": "Python 3",
   "language": "python",
   "name": "python3"
  },
  "language_info": {
   "codemirror_mode": {
    "name": "ipython",
    "version": 3
   },
   "file_extension": ".py",
   "mimetype": "text/x-python",
   "name": "python",
   "nbconvert_exporter": "python",
   "pygments_lexer": "ipython3",
   "version": "3.7.1"
  }
 },
 "nbformat": 4,
 "nbformat_minor": 2
}
