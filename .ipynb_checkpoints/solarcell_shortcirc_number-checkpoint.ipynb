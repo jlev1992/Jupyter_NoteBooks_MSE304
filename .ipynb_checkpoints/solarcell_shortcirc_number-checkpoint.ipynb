{
 "cells": [
  {
   "cell_type": "markdown",
   "metadata": {},
   "source": [
    "Problem Code: solarcell_shortcirc_number\n",
    "\n",
    "Solution by Joshua Leveillee\n",
    "\n",
    "Problem:\n",
    "\n",
    "<p>\n",
    "A solar cell under an illumination of $\\mathbf{I}_1$\n",
    "Wm$^{-2}$ has a short circuit current of $I_{sc1}$ mA and an\n",
    "open circuit output voltage of $V_{OC}$ V. Assume that the\n",
    "solar cell is at 300 K, the ideality factor is $\\eta$, and\n",
    "$V_{oc}\\gg \\frac{\\eta kT}{q}$.\n",
    "</p>\n",
    "<p>\n",
    "What is the short circuit current when the light intensity is\n",
    "$\\mathbf{I}_2$ Wm$^{-2}$? \n",
    "</p>\n",
    "\n",
    "____\n",
    "\n",
    "Solution:\n",
    "\n",
    "Open circuit voltage is directly proportional to illumination:\n",
    "\n",
    "\\begin{equation}\n",
    "I_{sc1} = \\kappa \\mathbf{I}_1\n",
    "\\end{equation}\n",
    "\n",
    "\\begin{equation}\n",
    "I_{sc2} = \\kappa \\mathbf{I}_2\n",
    "\\end{equation}\n",
    "\n",
    "Where $\\kappa$ is a proportionality constant. Dividing the two equations and re-arranging gives:\n",
    "\n",
    "\\begin{equation}\n",
    "I_{sc2} = I_{sc1} \\left ( \\frac{\\mathbf{I}_1}{\\mathbf{I}_2} \\right )\n",
    "\\end{equation}"
   ]
  },
  {
   "cell_type": "code",
   "execution_count": 2,
   "metadata": {},
   "outputs": [
    {
     "name": "stdout",
     "output_type": "stream",
     "text": [
      "The short-circuit current under the second illumination is 145.7750791974657 mA\n"
     ]
    }
   ],
   "source": [
    "###INPUTS###\n",
    "INT_1 = 947.0 ## Wm^-2 \n",
    "INT_2 = 1087.0 ## Wm^-2 \n",
    "Isc1 = 127 ## short circuit current 1 in mA\n",
    "\n",
    "Isc2 = Isc1*(INT_2/INT_1)\n",
    "\n",
    "print('The short-circuit current under the second illumination is',Isc2,'mA')"
   ]
  },
  {
   "cell_type": "code",
   "execution_count": null,
   "metadata": {},
   "outputs": [],
   "source": []
  }
 ],
 "metadata": {
  "kernelspec": {
   "display_name": "Python 3",
   "language": "python",
   "name": "python3"
  },
  "language_info": {
   "codemirror_mode": {
    "name": "ipython",
    "version": 3
   },
   "file_extension": ".py",
   "mimetype": "text/x-python",
   "name": "python",
   "nbconvert_exporter": "python",
   "pygments_lexer": "ipython3",
   "version": "3.7.1"
  }
 },
 "nbformat": 4,
 "nbformat_minor": 2
}
