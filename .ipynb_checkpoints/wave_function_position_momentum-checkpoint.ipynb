{
 "cells": [
  {
   "cell_type": "markdown",
   "metadata": {},
   "source": [
    "Problem Code: wave_function_position_momentum\n",
    "\n",
    "Solution by Joshua Leveillee\n",
    "\n",
    "Problem: An electron occupies the nth state of an infinite square well of width $L$. What are the expectation values of the position, squared position, momentum, and momentum squared:\n",
    "\n",
    "The wave function of an electron in the infinite well of length $L$ is:\n",
    "\n",
    "\\begin{equation}\n",
    "\\psi_{n}(x) = \\sqrt{\\frac{2}{L}}sin(\\frac{n\\pi x}{L})\n",
    "\\end{equation}\n",
    "\n",
    "The expectation value of position, $\\langle x \\rangle$ is:\n",
    "\n",
    "\\begin{equation}\n",
    "\\langle x \\rangle = \\frac{2}{L}\\int_{0}^{L}sin^2(\\frac{n\\pi x}{L})xdx\n",
    "\\end{equation}\n",
    "\n",
    "\\begin{equation}\n",
    "\\langle x \\rangle = -\\frac{2}{L}\\frac{L^2(-2\\pi^2n^2+2\\pi n sin(2 \\pi n)+cos(2\\pi n)-1)}{8 \\pi^2 n^2}\n",
    "\\end{equation}"
   ]
  },
  {
   "cell_type": "code",
   "execution_count": 2,
   "metadata": {},
   "outputs": [
    {
     "name": "stdout",
     "output_type": "stream",
     "text": [
      "position expectation is  2.5000042233246766\n"
     ]
    }
   ],
   "source": [
    "import math\n",
    "##INPUTS###\n",
    "pi = 3.14159\n",
    "L = 5 \n",
    "n = 4\n",
    "\n",
    "exp_x = (-2./L)*L*L*(-2*pi*pi*n*n+2*pi*n*math.sin(2*pi*n)+math.cos(2*pi*n)-1)/(8.*pi*pi*n*n)\n",
    "\n",
    "print('position expectation is ',exp_x)"
   ]
  },
  {
   "cell_type": "markdown",
   "metadata": {},
   "source": [
    "Now, we need to find the expectation of position squared:\n",
    "\n",
    "\\begin{equation}\n",
    "\\langle x \\rangle = \\frac{2}{L}\\int_{0}^{L}sin^2(\\frac{n\\pi x}{L})x^2dx\n",
    "\\end{equation}\n",
    "\n",
    "\\begin{equation}\n",
    "\\langle x \\rangle = \\frac{2}{L}\\frac{L^3(4\\pi^3n^3+(3-6\\pi^2 n^2 )sin(2 \\pi n)+6\\pi n cos(2\\pi n))}{24 \\pi^3 n^3}\n",
    "\\end{equation}"
   ]
  },
  {
   "cell_type": "code",
   "execution_count": 3,
   "metadata": {},
   "outputs": [
    {
     "name": "stdout",
     "output_type": "stream",
     "text": [
      "position squared expectation is  8.254154975154927\n"
     ]
    }
   ],
   "source": [
    "import math\n",
    "##INPUTS###\n",
    "pi = 3.14159\n",
    "L = 5 \n",
    "n = 4\n",
    "\n",
    "exp_x2 = (-2./L)*L*L*L*(-4.*pi*pi*pi*n*n*n+(3.-6.*pi*pi*n*n)*math.sin(2*pi*n)+6.*pi*n*math.cos(2*pi*n))/(24.*pi*pi*pi*n*n*n)\n",
    "\n",
    "print('position squared expectation is ',exp_x2)"
   ]
  },
  {
   "cell_type": "markdown",
   "metadata": {},
   "source": [
    "The expectation value of momentum, $\\langle p \\rangle$ is:\n",
    "\n",
    "\\begin{equation}\n",
    "\\langle p \\rangle = \\frac{2}{L}\\int_{0}^{L}sin(\\frac{n\\pi x}{L})(-i\\hbar)\\frac{d}{dx}sin(\\frac{n\\pi x}{L})dx\n",
    "\\end{equation}\n",
    "\n",
    "Turns out this is zero\n",
    "\n",
    "\\begin{equation}\n",
    "\\langle p \\rangle = 0\n",
    "\\end{equation}\n",
    "\n",
    "The expectation value of squared momentum, $\\langle p \\rangle$ is:\n",
    "\n",
    "\\begin{equation}\n",
    "\\langle p \\rangle = \\frac{2}{L}\\int_{0}^{L}sin(\\frac{n\\pi x}{L})(-i\\hbar)^2\\frac{d^2}{dx^2}sin(\\frac{n\\pi x}{L})dx\n",
    "\\end{equation}\n",
    "\n",
    "Turns out this is zero\n",
    "\n",
    "\\begin{equation}\n",
    "\\langle p \\rangle = \\frac{2\\hbar^2}{L}\\frac{(2\\pi^2 n^2 )}{4L} = \\frac{\\hbar^2\\pi^2 n^2}{L^2}\n",
    "\\end{equation}"
   ]
  },
  {
   "cell_type": "code",
   "execution_count": 5,
   "metadata": {},
   "outputs": [
    {
     "name": "stdout",
     "output_type": "stream",
     "text": [
      "position squared expectation is  6.316536145983999\n"
     ]
    }
   ],
   "source": [
    "import math\n",
    "##INPUTS###\n",
    "pi = 3.14159\n",
    "L = 5 \n",
    "n = 4\n",
    "\n",
    "exp_p2 = pi*pi*n*n/(L*L)\n",
    "\n",
    "print('position squared expectation is ',exp_p2)"
   ]
  },
  {
   "cell_type": "code",
   "execution_count": null,
   "metadata": {},
   "outputs": [],
   "source": []
  }
 ],
 "metadata": {
  "kernelspec": {
   "display_name": "Python 3",
   "language": "python",
   "name": "python3"
  },
  "language_info": {
   "codemirror_mode": {
    "name": "ipython",
    "version": 3
   },
   "file_extension": ".py",
   "mimetype": "text/x-python",
   "name": "python",
   "nbconvert_exporter": "python",
   "pygments_lexer": "ipython3",
   "version": "3.7.1"
  }
 },
 "nbformat": 4,
 "nbformat_minor": 2
}
