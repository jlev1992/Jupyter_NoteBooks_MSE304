{
 "cells": [
  {
   "cell_type": "markdown",
   "metadata": {},
   "source": [
    "Problem Code: wavefunction_hamiltonian_number\n",
    "\n",
    "Solution by Joshua Leveillee\n",
    "\n",
    "The state of a hydrogen atom is described by the following superposition:\n",
    "\n",
    "\\begin{equation}\n",
    "\\Psi = A(a\\psi_{100}+b\\psi_{200}+c\\psi_{322})\n",
    "\\end{equation}\n",
    "\n",
    "What is the expectation value for $\\hat{H}$? (The ground state energy of a hydrogen atom is -13.6 eV.)\n",
    "\n",
    "Solution. First, let's normalize:\n",
    "\n",
    "\\begin{equation}\n",
    "1 = \\int_{dV} \\Psi^{*}\\Psi dV = A^2 \\int_{dV} (a\\psi_{100}+b\\psi_{200}+c\\psi_{322})^{*}(a\\psi_{100}+b\\psi_{200}+c\\psi_{322}) dV\n",
    "\\end{equation}\n",
    "\n",
    "The Hydrogen atom's wave functions are normal and orthogonal. So:\n",
    "\n",
    "\\begin{equation}\n",
    "\\int_{0}^{2\\pi}\\int_{0}^{\\pi}\\int_{0}^{\\infty} \\psi_{nlm}^{*}\\psi_{n^{'}m^{'}l^{'}} r^2 sin(\\theta)drd\\theta d\\phi = \\delta_{nn^{'}}\\delta_{ll^{'}}\\delta_{mm^{'}}\n",
    "\\end{equation}\n",
    "\n",
    "Using this:\n",
    "\n",
    "\\begin{equation}\n",
    "1 = \\int_{dV} \\Psi^{*}\\Psi dV = A^2 \\int_{dV} (a^2\\psi_{100}^2+b^2\\psi_{200}^2+c^2\\psi_{322}^2) dV = A^2(a^2+b^2+c^2)\n",
    "\\end{equation}\n",
    "\n",
    "\\begin{equation}\n",
    "A = \\frac{1}{\\sqrt{(a^2+b^2+c^2)}}\n",
    "\\end{equation}\n",
    "\n",
    "Now, we are ready to calculate the energy. Using the normalization constant and the normal+orthogonal condition, the energy is given by the expectation of $\\hat{H}$:\n",
    "\n",
    "\\begin{equation}\n",
    "\\langle E \\rangle =   \\frac{1}{(a^2+b^2+c^2)} \\int_{dV} (a^2\\psi_{100}^{*}\\hat{H}\\psi_{100}+b^2\\psi_{200}^{*}\\hat{H}\\psi_{200}+c^2\\psi_{322}^{*}\\hat{H}\\psi_{322}) dV \n",
    "\\end{equation}\n",
    "\n",
    "The terms $\\psi_{nml}^{*}\\hat{H}\\psi_{nml}$ are simply the energy of hydrogen in those states $E_{n}=-13.6n^{-2}$\n",
    "\n",
    "\\begin{equation}\n",
    "\\langle E \\rangle =-13.6\\left ( \\frac{\\frac{a^2}{1^2}+\\frac{b^2}{2^2}+\\frac{c^2}{3^3}}{(a^2+b^2+c^2)} \\right )\n",
    "\\end{equation}"
   ]
  },
  {
   "cell_type": "code",
   "execution_count": 3,
   "metadata": {},
   "outputs": [
    {
     "name": "stdout",
     "output_type": "stream",
     "text": [
      "-2.7818181818181817  eV\n"
     ]
    }
   ],
   "source": [
    "## Inputs\n",
    "\n",
    "a = 1.\n",
    "b = -1.\n",
    "c = -3.\n",
    "\n",
    "Energy = (a*a+b*b/4+c*c/9)*(-13.6)/(a*a+b*b+c*c)\n",
    "\n",
    "print(Energy,' eV')"
   ]
  },
  {
   "cell_type": "code",
   "execution_count": null,
   "metadata": {},
   "outputs": [],
   "source": []
  }
 ],
 "metadata": {
  "kernelspec": {
   "display_name": "Python 3",
   "language": "python",
   "name": "python3"
  },
  "language_info": {
   "codemirror_mode": {
    "name": "ipython",
    "version": 3
   },
   "file_extension": ".py",
   "mimetype": "text/x-python",
   "name": "python",
   "nbconvert_exporter": "python",
   "pygments_lexer": "ipython3",
   "version": "3.7.1"
  }
 },
 "nbformat": 4,
 "nbformat_minor": 2
}
