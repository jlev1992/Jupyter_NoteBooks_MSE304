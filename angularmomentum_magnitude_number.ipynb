{
 "cells": [
  {
   "cell_type": "markdown",
   "metadata": {},
   "source": [
    "Problem Code: angularmomentum_magnitude_number\n",
    "\n",
    "Solution by Joshua Leveillee\n",
    "\n",
    "An electron has orbital angular momentum $L$ and spin angular momentum $S$. In general, both are present simultaneously and a total angular momentum, called $J$, is introduced. This total angular momentum is also associated with a quantum number $j$, for which holds:\n",
    "\n",
    "\\begin{equation}\n",
    "J^2 = \\hbar^2j(j+1)\n",
    "\\end{equation}\n",
    "\n",
    "\\begin{equation}\n",
    "j = |l \\pm s|\n",
    "\\end{equation}\n",
    "\n",
    "If an electron is in the $n_{s}$, $n_{p}$, $n_{d}$, or $n_{f}$ state (one of these will be given in the problem), what is the minimum and maximum value of $J$?\n",
    "\n",
    "Solution: Solution: $l=0,1,2,3$ for s, p, d, and f orbitals. Use the second equation above to find $j$, then plug in to find $J$:"
   ]
  },
  {
   "cell_type": "code",
   "execution_count": 4,
   "metadata": {},
   "outputs": [
    {
     "name": "stdout",
     "output_type": "stream",
     "text": [
      "1.9364916731037085 0.8660254037844386\n"
     ]
    }
   ],
   "source": [
    "import math\n",
    "\n",
    "## INPUTS ##\n",
    "l = 1  ## Put l number associated with orbital\n",
    "\n",
    "j1 = abs(l+0.5)\n",
    "j2 = abs(l-0.5)\n",
    "\n",
    "J1 = math.sqrt(j1*(j1+1))\n",
    "J2 = math.sqrt(j2*(j2+1))\n",
    "\n",
    "print(J1,J2)"
   ]
  },
  {
   "cell_type": "code",
   "execution_count": null,
   "metadata": {},
   "outputs": [],
   "source": []
  }
 ],
 "metadata": {
  "kernelspec": {
   "display_name": "Python 3",
   "language": "python",
   "name": "python3"
  },
  "language_info": {
   "codemirror_mode": {
    "name": "ipython",
    "version": 3
   },
   "file_extension": ".py",
   "mimetype": "text/x-python",
   "name": "python",
   "nbconvert_exporter": "python",
   "pygments_lexer": "ipython3",
   "version": "3.7.1"
  }
 },
 "nbformat": 4,
 "nbformat_minor": 2
}
