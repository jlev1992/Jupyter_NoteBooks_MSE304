{
 "cells": [
  {
   "cell_type": "markdown",
   "metadata": {},
   "source": [
    "Problem Code: bandgap_decreasing_energy\n",
    "\n",
    "Solution by Joshua Leveillee\n",
    "\n",
    "Question: Which lists have semiconductors in order of decreasing bandgap? Note: All groups in this problem follow a trend in the Periodic Table, but this trend may not be true for other semiconductor compounds.\n",
    "\n",
    "____\n",
    "\n",
    "Solution:\n",
    "\n",
    "The band gap can be roughly correlated to the electronegativity of a material. As electronegativity decreases, the energy gained by attracting a pair of electrons from the vacuum to the valence band decreases. Thus, band gap decreases when electronegativity decreases. Therefore, moving downward in the periodic table will result in lower gaps."
   ]
  },
  {
   "cell_type": "code",
   "execution_count": null,
   "metadata": {},
   "outputs": [],
   "source": []
  }
 ],
 "metadata": {
  "kernelspec": {
   "display_name": "Python 3",
   "language": "python",
   "name": "python3"
  },
  "language_info": {
   "codemirror_mode": {
    "name": "ipython",
    "version": 3
   },
   "file_extension": ".py",
   "mimetype": "text/x-python",
   "name": "python",
   "nbconvert_exporter": "python",
   "pygments_lexer": "ipython3",
   "version": "3.7.1"
  }
 },
 "nbformat": 4,
 "nbformat_minor": 2
}
