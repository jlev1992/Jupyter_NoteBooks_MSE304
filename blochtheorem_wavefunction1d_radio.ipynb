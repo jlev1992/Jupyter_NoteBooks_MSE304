{
 "cells": [
  {
   "cell_type": "markdown",
   "metadata": {},
   "source": [
    "Problem Code: blochtheorem_wavefunction1d_radio\n",
    "\n",
    "Solution by Joshua Leveillee\n",
    "\n",
    "<pl_question_panel>\n",
    "<p>\n",
    "A 1d crystal has lattice constant $a$. A wave function with wavenumber $k=m\\frac{2\\pi}{a}$ satisfies $\\psi_k(r_0) = 1+i$. Use Bloch's theorem to find $\\psi_k(r_0+R)$ where $R=na$.\n",
    "</p>\n",
    "\n",
    "Bloch's theorem states that the value of a wave function under lattice vector translation by $R$ is:\n",
    "\n",
    "\\begin{equation}\n",
    "\\psi_{k}(r_0+R) = e^{ik\\cdot R}\\psi_{k}(r_0)\n",
    "\\end{equation}\n",
    "\n",
    "Evaluating $k\\cdot R$. \n",
    "\n",
    "\\begin{equation}\n",
    "k\\cdot R = 2\\pi mn\n",
    "\\end{equation}\n",
    "\n",
    "Then, you must evaluate $e^{ik\\cdot R}=e^{i2\\pi nm}$, and the final answer will be:\n",
    "\n",
    "\\begin{equation}\n",
    "\\psi_k(r_0+R) = e^{ik\\cdot R}\\psi_{k}(r_0) =  e^{i2\\pi nm}(1+i)\n",
    "\\end{equation}\n",
    "\n"
   ]
  },
  {
   "cell_type": "code",
   "execution_count": null,
   "metadata": {},
   "outputs": [],
   "source": []
  }
 ],
 "metadata": {
  "kernelspec": {
   "display_name": "Python 3",
   "language": "python",
   "name": "python3"
  },
  "language_info": {
   "codemirror_mode": {
    "name": "ipython",
    "version": 3
   },
   "file_extension": ".py",
   "mimetype": "text/x-python",
   "name": "python",
   "nbconvert_exporter": "python",
   "pygments_lexer": "ipython3",
   "version": "3.7.1"
  }
 },
 "nbformat": 4,
 "nbformat_minor": 2
}
