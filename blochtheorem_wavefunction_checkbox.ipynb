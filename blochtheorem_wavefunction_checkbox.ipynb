{
 "cells": [
  {
   "cell_type": "markdown",
   "metadata": {},
   "source": [
    "Problem Code: blochtheorem_wavefunction_checkbox\n",
    "\n",
    "Solution by Joshua Leveillee\n",
    "\n",
    "Problem: Select the correct answer. A 2D crystal is described by the Bravais lattice vectors a1, a2 with the corresponding reciprocal-lattice vectors b1, b2. The wave-function with the momentum k=(3/(4n))b1satisfies $\\psi_{k}(r_0)=1+i$ . Use Bloch's theorem to find the value of the wave function at $\\psi_{k}(r_0+R)$ , where $R=na_1+ma_2$ is a lattice vector and n and m are two integers. (Hint: The Bloch theorem can also be written as $\\psi_k(r+R) = e^{ikR}\\psi_k(r)$). \n",
    "\n",
    "First, we must realize the relation of dot products between lattice vectors and recipricol lattice vectors:\n",
    "\n",
    "\\begin{equation}\n",
    "\\vec{a}_i\\cdot \\vec{b}_j = 2\\pi \\delta_{ij}\n",
    "\\end{equation}\n",
    "\n",
    "Thus, unless $i=j$, the dot product is 0. We can use this to perform the $k\\cdot R$ operation:\n",
    "\n",
    "\\begin{equation}\n",
    "k\\cdot R = \\left ( n\\vec{a}_1+m\\vec{a}_2 \\right ) \\cdot \\frac{3}{4n}\\vec{b}_1 = \\frac{3\\pi}{2}\n",
    "\\end{equation}\n",
    "\n",
    "Thus, the exponent is:\n",
    "\n",
    "\\begin{equation}\n",
    "e^{i \\pi\\frac{3}{2}} = \n",
    "\\end{equation}\n"
   ]
  },
  {
   "cell_type": "code",
   "execution_count": null,
   "metadata": {},
   "outputs": [],
   "source": []
  }
 ],
 "metadata": {
  "kernelspec": {
   "display_name": "Python 3",
   "language": "python",
   "name": "python3"
  },
  "language_info": {
   "codemirror_mode": {
    "name": "ipython",
    "version": 3
   },
   "file_extension": ".py",
   "mimetype": "text/x-python",
   "name": "python",
   "nbconvert_exporter": "python",
   "pygments_lexer": "ipython3",
   "version": "3.7.1"
  }
 },
 "nbformat": 4,
 "nbformat_minor": 2
}
