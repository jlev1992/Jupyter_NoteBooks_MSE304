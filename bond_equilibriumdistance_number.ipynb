{
 "cells": [
  {
   "cell_type": "markdown",
   "metadata": {},
   "source": [
    "Problem Code: bond_equilibriumdistance_number\n",
    "\n",
    "Solution by Joshua Leveillee\n",
    "\n",
    "<p>\n",
    "The interaction between two atoms can be expressed as \n",
    "$$E(r)=-\\frac{A}{r}+\\frac{B}{r^m}$$\n",
    "Where $A=2 \\textrm{ eV}\\cdot\\textrm{nm}$, $m=2$, $B={{params.randB}} \\textrm{ eV}\\cdot\\textrm{nm}^2$.\n",
    "</p>\n",
    "\n",
    "<p>\n",
    "What is the equilibrium separation between the two atoms?\n",
    "</p>\n",
    "\n",
    "\n",
    "Solution:\n",
    "\n",
    "You'll want to find out what position $r_0$ produces the energy minimum of the potential. First, lets take a derivative of the potential (m is always equal to 2):\n",
    "\n",
    "\\begin{equation}\n",
    "\\frac{dE(r)}{dr}=\\frac{A}{r^2}-2\\frac{B}{r^3}\n",
    "\\end{equation}\n",
    "\n",
    "To find the energy minimum, we set the derivative to 0:\n",
    "\n",
    "\\begin{equation}\n",
    "0=\\frac{A}{r_0^2}-2\\frac{B}{r_0^3}\n",
    "\\end{equation}\n",
    "\n",
    "Mulitply both sides by $r_0^2$:\n",
    "\n",
    "\\begin{equation}\n",
    "0=A-2\\frac{B}{r_0}\n",
    "\\end{equation}\n",
    "\n",
    "And rearrange to solve for $r_0$:\n",
    "\n",
    "\\begin{equation}\n",
    "r_0 = \\frac{2B}{A}\n",
    "\\end{equation}"
   ]
  },
  {
   "cell_type": "code",
   "execution_count": null,
   "metadata": {},
   "outputs": [],
   "source": []
  }
 ],
 "metadata": {
  "kernelspec": {
   "display_name": "Python 3",
   "language": "python",
   "name": "python3"
  },
  "language_info": {
   "codemirror_mode": {
    "name": "ipython",
    "version": 3
   },
   "file_extension": ".py",
   "mimetype": "text/x-python",
   "name": "python",
   "nbconvert_exporter": "python",
   "pygments_lexer": "ipython3",
   "version": "3.7.1"
  }
 },
 "nbformat": 4,
 "nbformat_minor": 2
}
