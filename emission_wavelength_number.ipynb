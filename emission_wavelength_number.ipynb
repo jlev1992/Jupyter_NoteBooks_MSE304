{
 "cells": [
  {
   "cell_type": "markdown",
   "metadata": {},
   "source": [
    "Problem Code: emission_wavelength_number\n",
    "\n",
    "Solution by Joshua Leveillee\n",
    "\n",
    "Problem: Calculate the shortest wavelength of radiation that will be emitted from the excited H atom as the electron at level $n$ returns to its ground state. Hydrogen ground state energy is -13.6 eV.\n",
    "\n",
    "Solution, the highest possibl energy transitions will result in the shortest possible wavelength. Thus, going direction from $n=n'$ to $n=1$ will give the answer. \n",
    "\n",
    "\\begin{equation}\n",
    "E_{n=n'\\rightarrow n=1} = -13.6 \\left ( \\frac{1}{n'^2}-\\frac{1}{1}  \\right )\n",
    "\\end{equation}\n",
    "\n",
    "\\begin{equation}\n",
    "\\lambda_{min} = \\frac{hc}{E_{n=n'\\rightarrow n=1}}\n",
    "\\end{equation}"
   ]
  },
  {
   "cell_type": "code",
   "execution_count": 5,
   "metadata": {},
   "outputs": [
    {
     "name": "stdout",
     "output_type": "stream",
     "text": [
      "The minimum wavelength is  94.96338311887256  nm associated with a 13.056  eV transitions \n"
     ]
    }
   ],
   "source": [
    "## Inputs ##\n",
    "n = 5 ## Quantum number\n",
    "\n",
    "E1 = -13.6\n",
    "En = -13.6/(n*n)\n",
    "\n",
    "Ediff = En-E1 #transition energy in eV\n",
    "\n",
    "lam = 1239.84193/Ediff ## Give wavelength in nm\n",
    "\n",
    "print('The minimum wavelength is ',lam,' nm associated with a',Ediff,' eV transitions ')"
   ]
  },
  {
   "cell_type": "code",
   "execution_count": null,
   "metadata": {},
   "outputs": [],
   "source": []
  }
 ],
 "metadata": {
  "kernelspec": {
   "display_name": "Python 3",
   "language": "python",
   "name": "python3"
  },
  "language_info": {
   "codemirror_mode": {
    "name": "ipython",
    "version": 3
   },
   "file_extension": ".py",
   "mimetype": "text/x-python",
   "name": "python",
   "nbconvert_exporter": "python",
   "pygments_lexer": "ipython3",
   "version": "3.7.1"
  }
 },
 "nbformat": 4,
 "nbformat_minor": 2
}
