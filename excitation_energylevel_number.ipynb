{
 "cells": [
  {
   "cell_type": "markdown",
   "metadata": {},
   "source": [
    "Problem Code: excitation_energylevel_number\n",
    "\n",
    "Solution by Joshua Leveillee\n",
    "\n",
    "Problem: A projectile electron with a velocity $v$ collides with a hydrogen atom in a gas discharge tube. Find the highest energy level to which the electron in the hydrogen atom gets excited.\n",
    "\n",
    "First, we need to find the kinetic energy of the projectile:\n",
    "\n",
    "\\begin{equation}\n",
    "KE = \\frac{1}{2}mv^2\n",
    "\\end{equation}\n",
    "\n",
    "Then, $n$ is found by rounding down (floor operation):\n",
    "\n",
    "\\begin{equation}\n",
    "n = FLOOR\\left ( \\sqrt{\\frac{13.6}{13.6-KE}} \\right )\n",
    "\\end{equation}"
   ]
  },
  {
   "cell_type": "code",
   "execution_count": 7,
   "metadata": {},
   "outputs": [
    {
     "name": "stdout",
     "output_type": "stream",
     "text": [
      "kinetic energy in eV is  12.291695986250001\n",
      "3\n"
     ]
    }
   ],
   "source": [
    "import math\n",
    "\n",
    "## INPUTS ##\n",
    "v = 2.0780E6 ## velocity in m/s\n",
    "KE = 0.5*9.109E-31*v*v/1.6E-19 ## KE in eV\n",
    "print('kinetic energy in eV is ',KE)\n",
    "\n",
    "n = math.floor(math.sqrt(13.6/(13.6-KE)))\n",
    "\n",
    "print(n)\n"
   ]
  },
  {
   "cell_type": "code",
   "execution_count": null,
   "metadata": {},
   "outputs": [],
   "source": []
  }
 ],
 "metadata": {
  "kernelspec": {
   "display_name": "Python 3",
   "language": "python",
   "name": "python3"
  },
  "language_info": {
   "codemirror_mode": {
    "name": "ipython",
    "version": 3
   },
   "file_extension": ".py",
   "mimetype": "text/x-python",
   "name": "python",
   "nbconvert_exporter": "python",
   "pygments_lexer": "ipython3",
   "version": "3.7.1"
  }
 },
 "nbformat": 4,
 "nbformat_minor": 2
}
