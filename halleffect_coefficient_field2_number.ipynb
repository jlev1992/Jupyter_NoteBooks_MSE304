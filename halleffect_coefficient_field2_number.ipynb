{
 "cells": [
  {
   "cell_type": "markdown",
   "metadata": {},
   "source": [
    "Problem Code: halleffect_coefficient_field2_number\n",
    "\n",
    "Solution by Joshua Leveillee\n",
    "\n",
    "Problem Statement: Consider the aluminum slab shown in the figure above, the magnetic field is uniform and its magnitude is B$_{z}$ Tesla. The current in the circuit is from left to right and its magnitude is I$_x$ Ampere. From the voltmeter reading, we measure that the potential difference between the top and bottom of the slab is V$_{y}$ micro-volts. \n",
    "\n",
    "Given that the dimension of this slab is t mm thick (into the page), w cm wide, and l cm long, what is the experimental Hall coefficient we can get from this set up?\n",
    "\n",
    "Solution: We need to first consider the expression for the hall voltage. If the current is running in the positive x direction and a magnetic field is pointed in the positive z direction. The Lorenz force is given by:\n",
    "\n",
    "\\begin{equation}\n",
    "F_{Lorentz} = qv_x \\times B_z\n",
    "\\end{equation}\n",
    "\n",
    "Where $v_x$ is the velocity of the electrons. The velocity v$_x$ is opposite to the current I$_x$. The charge the the particles $q$ is equal to the electron charge $e=-|e|=-1$. First, let's write down the expression for the Hsll Voltage $V_H$:\n",
    "\n",
    "\\begin{equation}\n",
    "V_H = v_x B_z w\n",
    "\\end{equation}\n",
    "\n",
    "Let's rewrite the electron velocity $v_x$ in terms of the current. Current density in the x-direction is given as $j_x=nv_xe$, and total current is equal $I_{x}=j_xA$ where A is the cross-sectional area. Again, for electrons, $I_x \\propto -v_x$, we can write:\n",
    "\n",
    "\\begin{equation}\n",
    "I_x = ntw(-v_x)(-|e|)\n",
    "\\end{equation}\n",
    "\n",
    "Solving for v_{x}:\n",
    "\n",
    "\\begin{equation}\n",
    "v_x = \\frac{I_x}{ntw|e|}\n",
    "\\end{equation}\n",
    "\n",
    "Plugging this all into our expression for the Hall voltage $V_H$:\n",
    "\n",
    "\\begin{equation}\n",
    "V_H = \\frac{I_x}{ntw|e|} B_z w = \\frac{I_xB_z}{tn|e|}\n",
    "\\end{equation}\n",
    "\n",
    "The next goal is to solve for the carrier concentration $n$ simply by rearranging the equation:\n",
    "\n",
    "\\begin{equation}\n",
    "n = \\frac{I_xB_z}{tV_H|e|}\n",
    "\\end{equation}\n",
    "\n",
    "Let's solve for n!"
   ]
  },
  {
   "cell_type": "code",
   "execution_count": 13,
   "metadata": {},
   "outputs": [
    {
     "name": "stdout",
     "output_type": "stream",
     "text": [
      "Bz =  0.6  T\n",
      "Ix =  70.0  A\n",
      "V_Hall =  0.15  micro Volts\n",
      "thickness =  4.0  mm\n"
     ]
    }
   ],
   "source": [
    "#input I_x in Amperes, B_z in Tesla, thickness t in mm\n",
    "\n",
    "#constants:\n",
    "e = 1.602e-19\n",
    "\n",
    "#inputs\n",
    "Bz = 0.6\n",
    "print(\"Bz = \",Bz,\" T\")\n",
    "Ix = 70.0\n",
    "print(\"Ix = \",Ix,\" A\")\n",
    "VH = 0.15\n",
    "print(\"V_Hall = \",VH,\" micro Volts\")\n",
    "VH = VH*1E-6 #convert to Volts\n",
    "t = 4.0\n",
    "print(\"thickness = \",t,\" mm\")\n",
    "t = t*1E-3\n"
   ]
  },
  {
   "cell_type": "code",
   "execution_count": 14,
   "metadata": {
    "scrolled": true
   },
   "outputs": [
    {
     "name": "stdout",
     "output_type": "stream",
     "text": [
      "carrier concentration is 4.369538077403246e+29  per cubic meter\n"
     ]
    }
   ],
   "source": [
    "n = (Ix*Bz)/(t*VH*e)\n",
    "print(\"carrier concentration is\",n,\" per cubic meter\")"
   ]
  },
  {
   "cell_type": "markdown",
   "metadata": {},
   "source": [
    "Now, let's conver this to per cubic cm"
   ]
  },
  {
   "cell_type": "code",
   "execution_count": 15,
   "metadata": {},
   "outputs": [
    {
     "name": "stdout",
     "output_type": "stream",
     "text": [
      "carrier concentration is 4.369538077403246e+23  per cubic cm\n"
     ]
    }
   ],
   "source": [
    "n = n*1E-6\n",
    "print(\"carrier concentration is\",n,\" per cubic cm\")"
   ]
  },
  {
   "cell_type": "markdown",
   "metadata": {},
   "source": [
    "Finally we can compute the Hall Coefficient as:\n",
    "\n",
    "\\begin{equation}\n",
    "R_H = -\\frac{1}{ne}\n",
    "\\end{equation}\n",
    "\n",
    "Finishing our calculation:"
   ]
  },
  {
   "cell_type": "code",
   "execution_count": 16,
   "metadata": {},
   "outputs": [
    {
     "name": "stdout",
     "output_type": "stream",
     "text": [
      "Hall coefficient is -1.4285714285714285e-05  cm^3/C\n"
     ]
    }
   ],
   "source": [
    "R_H = -1/(n*e)\n",
    "print(\"Hall coefficient is\",R_H,\" cm^3/C\")"
   ]
  },
  {
   "cell_type": "code",
   "execution_count": null,
   "metadata": {},
   "outputs": [],
   "source": []
  },
  {
   "cell_type": "code",
   "execution_count": null,
   "metadata": {},
   "outputs": [],
   "source": []
  }
 ],
 "metadata": {
  "kernelspec": {
   "display_name": "Python 3",
   "language": "python",
   "name": "python3"
  },
  "language_info": {
   "codemirror_mode": {
    "name": "ipython",
    "version": 3
   },
   "file_extension": ".py",
   "mimetype": "text/x-python",
   "name": "python",
   "nbconvert_exporter": "python",
   "pygments_lexer": "ipython3",
   "version": "3.7.1"
  }
 },
 "nbformat": 4,
 "nbformat_minor": 2
}
