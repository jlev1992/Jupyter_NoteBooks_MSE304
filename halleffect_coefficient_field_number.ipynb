{
 "cells": [
  {
   "cell_type": "markdown",
   "metadata": {},
   "source": [
    "Problem code: halleffect_coefficient_field_number\n",
    "\n",
    "Solution by Joshua Leveillee\n",
    "\n",
    "Problem: Consider the aluminum slab shown in the figure above, the magnetic field is uniform and its magnitude is $B$ (in T). The current in the circuit is from left to right and its magnitude is $I$ (in A). From the voltmeter reading, we measure that the potential difference between the top and bottom of the slab is $V_H$ (in μV, microvolt). Given that the dimension of this slab is $t$ mm thick (into the page), $w$ cm wide, and $l$ cm long, what is the concentration $n$ of the mobile electrons in this aluminum slab?\n",
    "\n",
    "This is a straight-forward application of the equation for the Hall voltage:\n",
    "\n",
    "\\begin{equation}\n",
    "V_{H} = \\frac{IB}{nte}\n",
    "\\end{equation}\n",
    "\n",
    "Re-arranging for electron density $n$:\n",
    "\n",
    "\\begin{equation}\n",
    "n = \\frac{IB}{V_H te}\n",
    "\\end{equation}"
   ]
  },
  {
   "cell_type": "code",
   "execution_count": 2,
   "metadata": {},
   "outputs": [
    {
     "name": "stdout",
     "output_type": "stream",
     "text": [
      "Electron concentration is  8.863636363636364e+23  free electrons per cm^-3\n"
     ]
    }
   ],
   "source": [
    "##Inpits\n",
    "\n",
    "V_H = 0.22 #Hall voltage in micro volts\n",
    "V_H = V_H*1E-6 #convert to volts\n",
    "B = 0.4 #Applied magnetic field in T\n",
    "t = 1. #thickness of material in mm\n",
    "t = t*1.E-3 #convert to meters\n",
    "I = 78. # Applied current in Amps\n",
    "e = 1.6E-19 # electron charge in C\n",
    "\n",
    "n = I*B/(V_H*t*e) ##free electron concentration in m^-3\n",
    "\n",
    "n = n*1E-6 ## convert to cm^-3\n",
    "\n",
    "print('Electron concentration is ',n,' free electrons per cm^-3')"
   ]
  },
  {
   "cell_type": "code",
   "execution_count": null,
   "metadata": {},
   "outputs": [],
   "source": []
  }
 ],
 "metadata": {
  "kernelspec": {
   "display_name": "Python 3",
   "language": "python",
   "name": "python3"
  },
  "language_info": {
   "codemirror_mode": {
    "name": "ipython",
    "version": 3
   },
   "file_extension": ".py",
   "mimetype": "text/x-python",
   "name": "python",
   "nbconvert_exporter": "python",
   "pygments_lexer": "ipython3",
   "version": "3.7.1"
  }
 },
 "nbformat": 4,
 "nbformat_minor": 2
}
