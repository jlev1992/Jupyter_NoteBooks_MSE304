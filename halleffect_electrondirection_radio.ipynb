{
 "cells": [
  {
   "cell_type": "markdown",
   "metadata": {},
   "source": [
    "Problem code: halleffect_electrondirection_radio\n",
    "\n",
    "Solution by Joshua Leveillee\n",
    "\n",
    "For a Hall set up, with the current running in the negative x-direction, applied magnetic field in the negative z-diretion, what direction will the electron by deflected by the Lorentz force?\n",
    "\n",
    "Here, we must first keep in mind our sign convention with it comes to the direction the electron travels given the current. The electron velocity is, due to its negative charge, opposite to the current. Therefore, the electron is traveling in the positive x-direction. The applied field is in the negative z-direction. Therefore, writing out the equation of the Lorentz force in vector notation, with the electron charge $e = -1.6\\times 10^{-19}C$:\n",
    "\n",
    "\\begin{equation}\n",
    "F_{Lorentz} = e(\\vec{v}\\times\\vec{B}) = -|e|(|v_x|\\hat{i}\\times -|B_z|\\hat{k})\n",
    "\\end{equation}\n",
    "\n",
    "The cross product givens:\n",
    "\n",
    "\\begin{equation}\n",
    "F_{Lorentz} = -|e|(|v_x||B_z|\\hat{j}) = -|ev_xB_z|\\hat{j}\n",
    "\\end{equation}\n",
    "\n",
    "Therefore, the electron moves in the negative y-direction."
   ]
  },
  {
   "cell_type": "code",
   "execution_count": null,
   "metadata": {},
   "outputs": [],
   "source": []
  }
 ],
 "metadata": {
  "kernelspec": {
   "display_name": "Python 3",
   "language": "python",
   "name": "python3"
  },
  "language_info": {
   "codemirror_mode": {
    "name": "ipython",
    "version": 3
   },
   "file_extension": ".py",
   "mimetype": "text/x-python",
   "name": "python",
   "nbconvert_exporter": "python",
   "pygments_lexer": "ipython3",
   "version": "3.7.1"
  }
 },
 "nbformat": 4,
 "nbformat_minor": 2
}
