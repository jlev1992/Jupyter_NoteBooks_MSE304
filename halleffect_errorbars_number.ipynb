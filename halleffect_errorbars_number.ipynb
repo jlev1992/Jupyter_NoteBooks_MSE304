{
 "cells": [
  {
   "cell_type": "markdown",
   "metadata": {},
   "source": [
    "Problem code: halleffect_errorbars_number\n",
    "\n",
    "Solution by Joshua Leveillee\n",
    "\n",
    "A Hall sensor has a voltmeter which measures voltages with an error of $\\Delta V_{H}$. The device is $w$ in length and $A$ in cross area. If the carrier concentration is n, what current should you run through it to measure a magnetic field within an error of $\\Delta B$?\n",
    "\n",
    "This is again a stright forward application of the equation:\n",
    "\n",
    "\\begin{equation}\n",
    "\\Delta V_{H} \\frac{I \\Delta B}{nte}\n",
    "\\end{equation}\n",
    "\n",
    "Since we know the width and cross-section area, we can calculate thickness $t=A/w$. Finally, rearranging the equation to solve current as a function of field margin $\\Delta B$. \n",
    "\n",
    "\\begin{equation}\n",
    "I = \\frac{\\Delta V nte}{\\Delta B}\n",
    "\\end{equation}"
   ]
  },
  {
   "cell_type": "code",
   "execution_count": 2,
   "metadata": {},
   "outputs": [
    {
     "name": "stdout",
     "output_type": "stream",
     "text": [
      "The required applied current to measure the minimum voltage difference is  0.10953002666666665  A\n"
     ]
    }
   ],
   "source": [
    "## Inputs #####\n",
    "dV = 81.51 # difference in voltage that can be measured in nV\n",
    "dV = dV*1E-9 #convert to V\n",
    "n = 3.72E18 #electron conventration per cm^3\n",
    "n = n*1E6 #convert to per m^3\n",
    "w = 5.13 # width in mm\n",
    "A = 6.37 # cross section area in mm^2\n",
    "t = (A/w)*1E-3 # thickness in meter\n",
    "dB = 0.55 # margin of measurable field in mT\n",
    "dB = dB*1E-3 #convert to T\n",
    "e = 1.6E-19 #electron charge\n",
    "\n",
    "I = dV*n*t*e/dB\n",
    "\n",
    "print('The required applied current to measure the minimum voltage difference is ',I,' A')"
   ]
  },
  {
   "cell_type": "code",
   "execution_count": null,
   "metadata": {},
   "outputs": [],
   "source": []
  }
 ],
 "metadata": {
  "kernelspec": {
   "display_name": "Python 3",
   "language": "python",
   "name": "python3"
  },
  "language_info": {
   "codemirror_mode": {
    "name": "ipython",
    "version": 3
   },
   "file_extension": ".py",
   "mimetype": "text/x-python",
   "name": "python",
   "nbconvert_exporter": "python",
   "pygments_lexer": "ipython3",
   "version": "3.7.1"
  }
 },
 "nbformat": 4,
 "nbformat_minor": 2
}
