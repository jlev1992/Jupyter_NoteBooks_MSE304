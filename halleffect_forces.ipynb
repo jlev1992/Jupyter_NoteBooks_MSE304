{
 "cells": [
  {
   "cell_type": "markdown",
   "metadata": {},
   "source": [
    "Problem code: halleffect_forces\n",
    "\n",
    "Solution by Joshua Leveillee\n",
    "\n",
    "An electron with speed $v_x$ (towards the right of the page, x-direction) enters a region that is $h$ wide (in the y-direction). The region contains a uniform $B$ magentic field directed into the page (in the z-direction). What is the magnitude of the applied voltage in the y-direction that must be used to ensure that the electron hits the center of the target (remains on a straight path)?\n",
    "\n",
    "This problem deals with the force balane between the Lorentz force and an applied electrostatic force. The total force acting on the electron is the sum between the Lorentz force and the applied external force. The force in the y-direction should be 0 N:\n",
    "\n",
    "\\begin{equation}\n",
    "\\vec{F}_{total} = \\vec{0} = \\vec{F}_{applied}+\\vec{F}_{Lorentz} = \\vec{E}e + e(\\vec{v}\\times \\vec{B})\n",
    "\\end{equation}\n",
    "\n",
    "The velocity of the electron is only along the $y$-direction. The applied field is in the negative $z$-diretion. The applied electric field is in the $y$-direction, as the applied voltage is in the same direction. Writing out the whole thing in vector notation and completing the cross product:\n",
    "\n",
    "\\begin{equation}\n",
    "\\vec{F}_{total} = \\vec{0} = eE_{y}\\hat{j} + e(v_x\\hat{i} \\times -B_z\\hat{k}) = eE_{y}\\hat{j} + e(v_xB_z)\\hat{j}\n",
    "\\end{equation}\n",
    "\n",
    "Rearranging to solve for $E_y$:\n",
    "\n",
    "\\begin{equation}\n",
    "E_y = -v_xB_z\n",
    "\\end{equation}\n",
    "\n",
    "The voltage is equal to the applied electric field over the distance it is applied. Solving the magnitudes only:\n",
    "\n",
    "\\begin{equation}\n",
    "|V_{applied}| = |hE_y| = |hv_xB_z|\n",
    "\\end{equation}"
   ]
  },
  {
   "cell_type": "code",
   "execution_count": 1,
   "metadata": {},
   "outputs": [
    {
     "name": "stdout",
     "output_type": "stream",
     "text": [
      "The applied voltage to keep the electron on a straight path is  116505.0  V\n"
     ]
    }
   ],
   "source": [
    "##Inputs #####\n",
    "vx = 21575.0 #km/s\n",
    "vx = vx*1E3 #convert to m/s\n",
    "h = 6 ## width the voltage is applied in mm\n",
    "h = h*1E-3 #convert to m\n",
    "Bz = 0.9 #applied magnetic field in T\n",
    "\n",
    "V = h*vx*Bz\n",
    "\n",
    "print('The applied voltage to keep the electron on a straight path is ',V,' V')"
   ]
  },
  {
   "cell_type": "code",
   "execution_count": null,
   "metadata": {},
   "outputs": [],
   "source": []
  }
 ],
 "metadata": {
  "kernelspec": {
   "display_name": "Python 3",
   "language": "python",
   "name": "python3"
  },
  "language_info": {
   "codemirror_mode": {
    "name": "ipython",
    "version": 3
   },
   "file_extension": ".py",
   "mimetype": "text/x-python",
   "name": "python",
   "nbconvert_exporter": "python",
   "pygments_lexer": "ipython3",
   "version": "3.7.1"
  }
 },
 "nbformat": 4,
 "nbformat_minor": 2
}
