{
 "cells": [
  {
   "cell_type": "markdown",
   "metadata": {},
   "source": [
    "Problem code: halleffect_gold_burn_number\n",
    "\n",
    "Solution by Joshua Leveillee\n",
    "\n",
    "Problem statement: How long would it take for a current of $I=10$ A to melt the gold film by Joule heating if 75% of the heat dissipated in the film is conducted away by cooling the substrate? A new film with thickness $t$ μm is used, s (length and width of films) are still 1 mm. Pure gold melts at 1064∘C and has a specific heat capacity $c_p$ of 0.129 J/(gK) at a room temperature of 25∘C. The resistivity of gold is $r=2.44\\times 10^{−8}$ Ωm.\n",
    "\n",
    "First, let's establish how much power is supplied by a current according to Ohm's law:\n",
    "\n",
    "\\begin{equation}\n",
    "P_{supplied} = I^2R\n",
    "\\end{equation}\n",
    "\n",
    "R is the resitance, and is given by the $R = rL/A$ where $L$ is the material length and $A$ is the area through which the current is passed.\n",
    "\n",
    "In reality, 75% of the supplied power is taken away by subtrait cooling, and thus the supplied power changes to:\n",
    "\n",
    "\\begin{equation}\n",
    "P_{supplied} = 0.25*I^2R\n",
    "\\end{equation}\n",
    "\n",
    "Thermal required power to change heat $\\Delta Q$ per change in time $\\Delta t$ are given by:\n",
    "\n",
    "\\begin{equation}\n",
    "P_{required} = \\frac{\\Delta Q}{\\Delta t}\n",
    "\\end{equation}\n",
    "\n",
    "If we have a given change in temperature $\\Delta T$ and a specific heat capacity $c_p$ is expressed as:\n",
    "\n",
    "\\begin{equation}\n",
    "c_{p} = \\frac{\\Delta Q}{\\Delta T}\\frac{1}{m}\n",
    "\\end{equation}\n",
    "\n",
    "Here, $m$ is the mass of material being heated. We can rewrite mass in terms of material density volume $m = \\rho V$ and then solve for the suppled heat $\\Delta Q$:\n",
    "\n",
    "\\begin{equation}\n",
    "\\Delta Q = \\rho V c_p \\Delta T\n",
    "\\end{equation}\n",
    "\n",
    "Then the power required to heat the material by $\\Delta T$ is:\n",
    "\n",
    "\\begin{equation}\n",
    "P_{required} = \\frac{\\rho V c_p \\Delta T}{\\Delta t}\n",
    "\\end{equation}\n",
    "\n",
    "Now, we can set the supplied power equal to the required power to induce the heating:\n",
    "\n",
    "\\begin{equation}\n",
    "0.25*I^2 R = \\frac{\\rho V c_p \\Delta T}{\\Delta t}\n",
    "\\end{equation}\n",
    "\n",
    "Finally, the time required to change the material temperature by $\\Delta T$ is:\n",
    "\n",
    "\\begin{equation}\n",
    "\\Delta t  = \\frac{\\rho V c_p \\Delta T}{0.25*I^2 R}\n",
    "\\end{equation}\n",
    "\n"
   ]
  },
  {
   "cell_type": "code",
   "execution_count": 9,
   "metadata": {},
   "outputs": [
    {
     "name": "stdout",
     "output_type": "stream",
     "text": [
      "The time it takes to melt the gold is  0.004630899038618854  seconds\n"
     ]
    }
   ],
   "source": [
    "## Inputs\n",
    "\n",
    "I = 10 #Current in A\n",
    "r = 2.44E-8 #Resistance in Ohm*meter\n",
    "rho = 19300 #density of gold in kg/m^3\n",
    "thick = 1.045 #thickness of gold film in um\n",
    "thick = thick*1E-6 #convert to meter\n",
    "s = 1.0 #length and width of gold foil in mm\n",
    "s = s*1E-3 #convert to meter\n",
    "R = r*s/(s*thick)\n",
    "Volume = thick*s*s #volume of gold film\n",
    "cp = 0.129 #Heat capacity of gold in J/(g*K)\n",
    "cp = cp*1E3 #convert to j/(kg*K)\n",
    "T0 = 25.0 #inital temperature in Celsius\n",
    "TF = 1064.0 #final temperature in Celsius\n",
    "dT = TF-T0 #change in temperature\n",
    "\n",
    "Power_In = 0.25*I*I*R #Power in from Joule heating after 75% has been removed by cooling\n",
    "Heat_Induced = rho*Volume*cp*dT #Amount of heat added to the system\n",
    "\n",
    "dt = Heat_Induced/Power_In #time to change temp by dT\n",
    "\n",
    "print('The time it takes to melt the gold is ',dt,' seconds')\n",
    "\n"
   ]
  },
  {
   "cell_type": "code",
   "execution_count": null,
   "metadata": {},
   "outputs": [],
   "source": []
  }
 ],
 "metadata": {
  "kernelspec": {
   "display_name": "Python 3",
   "language": "python",
   "name": "python3"
  },
  "language_info": {
   "codemirror_mode": {
    "name": "ipython",
    "version": 3
   },
   "file_extension": ".py",
   "mimetype": "text/x-python",
   "name": "python",
   "nbconvert_exporter": "python",
   "pygments_lexer": "ipython3",
   "version": "3.7.1"
  }
 },
 "nbformat": 4,
 "nbformat_minor": 2
}
