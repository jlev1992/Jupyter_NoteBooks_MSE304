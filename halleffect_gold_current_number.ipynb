{
 "cells": [
  {
   "cell_type": "markdown",
   "metadata": {},
   "source": [
    "Problem code: halleffect_gold_current_number\n",
    "\n",
    "Solution by Joshua Leveillee\n",
    "\n",
    "Problem Statement: Suppose your voltmeter can only measure voltages with an accuracy of $V_H$ μV. What current would you have to pass through the film to detect a change in magnetic field of the magnitude $B_z$ T. The side length $s$ in mm and thickness $t$ is in μm.\n",
    "\n",
    "The first order of business is to find the electron concentration $n$. We know that each atom of gold gives one free electron. The density of gold $\\rho=19300$ kg/m^3. The atomic mass is given as $M=0.197$ kg/mol. Finally, we know Avogadro's number is $\\alpha=6.022\\times 10^{23}$ atoms/mol. Let's calculate the number of electrons per cubic meter:"
   ]
  },
  {
   "cell_type": "code",
   "execution_count": 3,
   "metadata": {},
   "outputs": [
    {
     "name": "stdout",
     "output_type": "stream",
     "text": [
      "The free electron concentration is  5.899725888324873e+28  per cubic meter\n"
     ]
    }
   ],
   "source": [
    "## Inputs ######\n",
    "alpha = 6.022E23 #Avogadro's number in atoms/mol\n",
    "rho = 19300 #gold's density in kg/m^3\n",
    "M = 0.197 #gold's atomic weight in kg/mol\n",
    "################\n",
    "\n",
    "n = alpha*rho/M\n",
    "\n",
    "print('The free electron concentration is ',n,' per cubic meter')"
   ]
  },
  {
   "cell_type": "markdown",
   "metadata": {},
   "source": [
    "The remainder is fairly simple. We can write down our favorite equation for the Hall voltage $V_H$:\n",
    "\n",
    "\\begin{equation}\n",
    "V_{H} = \\frac{I_xB_z}{nte}\n",
    "\\end{equation}\n",
    "\n",
    "Given a Hall voltage accuracy of $V_H$ and a change in magnetic field thatwe want to detect $B_z$, we can solve for the required current to pass through the film as:\n",
    "\n",
    "\\begin{equation}\n",
    "I_x = \\frac{V_H nte}{B_z}\n",
    "\\end{equation}\n",
    "\n",
    "Solving for $I_x$ now:"
   ]
  },
  {
   "cell_type": "code",
   "execution_count": 2,
   "metadata": {},
   "outputs": [
    {
     "name": "stdout",
     "output_type": "stream",
     "text": [
      "The current to induce the desired change in Bz is  9.987055983756342  A\n"
     ]
    }
   ],
   "source": [
    "## Inputs #####\n",
    "VH = 100. #Hall voltage change in micro-Volts\n",
    "VH = VH*1E-6 #Convert to Volts\n",
    "e = 1.6E-19\n",
    "t = 1.058 #film thickness in micro meters\n",
    "t = t*1E-6\n",
    "Bz = 0.1 # Change in magnetic field in Tesla\n",
    "\n",
    "Ix = VH*n*t*e/Bz\n",
    "\n",
    "print('The current to induce the desired change in Bz is ',Ix,' A')"
   ]
  }
 ],
 "metadata": {
  "kernelspec": {
   "display_name": "Python 3",
   "language": "python",
   "name": "python3"
  },
  "language_info": {
   "codemirror_mode": {
    "name": "ipython",
    "version": 3
   },
   "file_extension": ".py",
   "mimetype": "text/x-python",
   "name": "python",
   "nbconvert_exporter": "python",
   "pygments_lexer": "ipython3",
   "version": "3.7.1"
  }
 },
 "nbformat": 4,
 "nbformat_minor": 2
}
