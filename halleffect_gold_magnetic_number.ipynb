{
 "cells": [
  {
   "cell_type": "markdown",
   "metadata": {},
   "source": [
    "Problem code: halleffect_gold_magnetic_number\n",
    "\n",
    "Solution by Joshua Leveillee\n",
    "\n",
    "Problem statement: A $t$ $\\mu m$ thick film of gold on an insulating substrate is used as a Hall effect sensor. \n",
    "$V_H=IB/(ten)$, where $t$ is the thickness of the film. If the current through the film is held constant at 100 mA, what is the magnetic field that can be recorded per $\\mu V$ of Hall voltage? Assume each gold atom contributes one conduction electron. \n",
    "\n",
    "The first order of business is to find the electron concentration $n$. We know that each atom of gold gives one free electron. The density of gold $\\rho=19300$ kg/m^3. The atomic mass is given as $M=0.197$ kg/mol. Finally, we know Avogadro's number is $\\alpha=6.022\\times 10^{23}$ atoms/mol. Let's calculate the number of electrons per cubic meter:"
   ]
  },
  {
   "cell_type": "code",
   "execution_count": 1,
   "metadata": {},
   "outputs": [
    {
     "name": "stdout",
     "output_type": "stream",
     "text": [
      "The free electron concentration is  5.899725888324873e+28  per cubic meter\n"
     ]
    }
   ],
   "source": [
    "## Inputs ######\n",
    "alpha = 6.022E23 #Avogadro's number in atoms/mol\n",
    "rho = 19300 #gold's density in kg/m^3\n",
    "M = 0.197 #gold's atomic weight in kg/mol\n",
    "################\n",
    "\n",
    "n = alpha*rho/M\n",
    "\n",
    "print('The free electron concentration is ',n,' per cubic meter')"
   ]
  },
  {
   "cell_type": "markdown",
   "metadata": {},
   "source": [
    "The remainder is fairly simple. We can write down our favorite equation for the Hall voltage $V_H$:\n",
    "\n",
    "\\begin{equation}\n",
    "V_{H} = \\frac{I_xB_z}{nte}\n",
    "\\end{equation}\n",
    "\n",
    "We have to solve for $B_z$ resulting from 1 $\\mu V$ of change in the hall voltage:\n",
    "\n",
    "\\begin{equation}\n",
    "B_{z} = \\frac{V_Hnte}{I_x}\n",
    "\\end{equation}\n",
    "\n"
   ]
  },
  {
   "cell_type": "code",
   "execution_count": 5,
   "metadata": {},
   "outputs": [
    {
     "name": "stdout",
     "output_type": "stream",
     "text": [
      "The magnetic field, in Tesla, that can be measured by a change in Hall voltage of 1 uV is  0.1887912284263959  T\n"
     ]
    }
   ],
   "source": [
    "## Inputs ######\n",
    "Ix = 100. #milli-Amps, current in gold film\n",
    "Ix = Ix*1E-3 #convert to Amps\n",
    "t = 2. #micro meters, film thickness\n",
    "t = t*1E-6 #convert to meter\n",
    "e = 1.6E-19 #electron charge, C\n",
    "VH = 1E-6 #Volts, Hall voltage\n",
    "################\n",
    "\n",
    "Bz = (VH*n*t*e)/(Ix)\n",
    "\n",
    "print('The magnetic field, in Tesla, that can be measured by a change in Hall voltage of 1 uV is ',Bz,' T')"
   ]
  }
 ],
 "metadata": {
  "kernelspec": {
   "display_name": "Python 3",
   "language": "python",
   "name": "python3"
  },
  "language_info": {
   "codemirror_mode": {
    "name": "ipython",
    "version": 3
   },
   "file_extension": ".py",
   "mimetype": "text/x-python",
   "name": "python",
   "nbconvert_exporter": "python",
   "pygments_lexer": "ipython3",
   "version": "3.7.1"
  }
 },
 "nbformat": 4,
 "nbformat_minor": 2
}
