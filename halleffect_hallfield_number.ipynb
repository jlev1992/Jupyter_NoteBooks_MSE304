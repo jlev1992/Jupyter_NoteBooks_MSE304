{
 "cells": [
  {
   "cell_type": "markdown",
   "metadata": {},
   "source": [
    "Problem code: halleffect_hallfield_number\n",
    "\n",
    "Solution by: Joshua Leveillee\n",
    "\n",
    "Goal: determine the Hall voltage. \n",
    "\n",
    "In this problem, we are given the material width ($w$), thickness ($D$), and length ($L$). We are also given the free electron concentration $n$. Finally, we are given the current density $J_{x}=I_{x}/(Dw)$ and are told it runs in the negative direction. The hall voltage is given by:\n",
    "\n",
    "\\begin{equation}\n",
    "V_{H} = \\frac{I_{x}B_{z}}{nDe}\n",
    "\\end{equation}\n",
    "\n",
    "Keep in mind, $I_x$, $J_x$, and $e$ are all negative in this particular question. Rewriting in terms of current density:\n",
    "\n",
    "\\begin{equation}\n",
    "V_{H} = \\frac{J_{x}wDB_{z}}{nDe}\n",
    "\\end{equation}\n",
    "\n"
   ]
  },
  {
   "cell_type": "code",
   "execution_count": 2,
   "metadata": {},
   "outputs": [
    {
     "name": "stdout",
     "output_type": "stream",
     "text": [
      "The Hall voltage V_H is 4e-05  Volts\n"
     ]
    }
   ],
   "source": [
    "##Inputs########\n",
    "Jx = -80.0E8 #A/m^2, in the negative x direction\n",
    "w = 400 #micro meters\n",
    "w = w*1E-6 #convert to meters\n",
    "D = 800 #nm\n",
    "D = D*1E-9 #convert to meters\n",
    "n = 5.E22 #per cm^3\n",
    "n = n*1.E6 #convert to per m^3\n",
    "Bz = 0.1 # T\n",
    "e = -1.6E-19\n",
    "##################\n",
    "\n",
    "VH = Jx*w*D*Bz/(n*D*e) ## Solve for Hall voltage\n",
    "\n",
    "print('The Hall voltage V_H is',VH,' Volts')"
   ]
  },
  {
   "cell_type": "markdown",
   "metadata": {},
   "source": [
    "For electrons, the Hall field $E_y$ is opposite to the hall voltage, espressed as:\n",
    "\n",
    "\\begin{equation}\n",
    "E_y = -\\frac{V_H}{w}\n",
    "\\end{equation}"
   ]
  },
  {
   "cell_type": "code",
   "execution_count": 5,
   "metadata": {},
   "outputs": [
    {
     "name": "stdout",
     "output_type": "stream",
     "text": [
      "The hall field Ey is  -0.10000000000000002 V/m\n"
     ]
    }
   ],
   "source": [
    "Ey = -VH/w ## Solve for hall field\n",
    "\n",
    "print('The hall field Ey is ',Ey,'V/m')"
   ]
  }
 ],
 "metadata": {
  "kernelspec": {
   "display_name": "Python 3",
   "language": "python",
   "name": "python3"
  },
  "language_info": {
   "codemirror_mode": {
    "name": "ipython",
    "version": 3
   },
   "file_extension": ".py",
   "mimetype": "text/x-python",
   "name": "python",
   "nbconvert_exporter": "python",
   "pygments_lexer": "ipython3",
   "version": "3.7.1"
  }
 },
 "nbformat": 4,
 "nbformat_minor": 2
}
