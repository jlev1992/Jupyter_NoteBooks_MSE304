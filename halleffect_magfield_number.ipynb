{
 "cells": [
  {
   "cell_type": "markdown",
   "metadata": {},
   "source": [
    "Problem code: halleffect_magfield_number\n",
    "\n",
    "Solution by Joshua Leveillee\n",
    "\n",
    "Problem statement: Consider a rectangular strip (thickness $D$, length $L$ and width $W$) that is used as a Hall probe sensor on an insulating substrate. The material used here has an electron concentration of $n$ electrons/cm^3. A current $I$ is passed through the probe along $L$, perpendicular to the cross-sectional area $A=WD$. The magnetic field $B$ is measured in the z direction. A voltmeter is connected across the width $W$ to read the Hall voltage $V_H$. How large of a magnetic field do you need to measure a given Hall voltage?\n",
    "\n",
    "This problem requires a straight forward application of:\n",
    "\n",
    "\\begin{equation}\n",
    "V_{H} = \\frac{I_xB_z}{nDe}\n",
    "\\end{equation}\n",
    "\n",
    "Re-arrange to solve for $B_z$:\n",
    "\n",
    "\\begin{equation}\n",
    "B_z = \\frac{V_HnDe}{I_x}\n",
    "\\end{equation}"
   ]
  },
  {
   "cell_type": "code",
   "execution_count": 2,
   "metadata": {},
   "outputs": [
    {
     "name": "stdout",
     "output_type": "stream",
     "text": [
      "The magnetic field to measure a Hall voltage of  8e-06  V is  0.26194687999999994  T\n"
     ]
    }
   ],
   "source": [
    "##Inputs #####\n",
    "n = 2.21E22 # concnetration of electrons in cm^-3\n",
    "n = n*1E6 # convert to m^-3\n",
    "D = 1389 # thickness in nm\n",
    "D = D*1E-9 #convert to meter\n",
    "e = 1.6E-19 #charge of electron\n",
    "VH = 8.0 #Hall voltage in micro-volts\n",
    "VH = VH*1E-6\n",
    "Ix = 150 # Current in mA\n",
    "Ix = Ix*1E-3 #convert to A\n",
    "\n",
    "Bz = VH*n*D*e/Ix\n",
    "\n",
    "print('The magnetic field to measure a Hall voltage of ',VH,' V is ',Bz,' T')"
   ]
  },
  {
   "cell_type": "code",
   "execution_count": null,
   "metadata": {},
   "outputs": [],
   "source": []
  }
 ],
 "metadata": {
  "kernelspec": {
   "display_name": "Python 3",
   "language": "python",
   "name": "python3"
  },
  "language_info": {
   "codemirror_mode": {
    "name": "ipython",
    "version": 3
   },
   "file_extension": ".py",
   "mimetype": "text/x-python",
   "name": "python",
   "nbconvert_exporter": "python",
   "pygments_lexer": "ipython3",
   "version": "3.7.1"
  }
 },
 "nbformat": 4,
 "nbformat_minor": 2
}
