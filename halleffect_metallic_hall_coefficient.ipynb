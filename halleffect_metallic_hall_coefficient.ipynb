{
 "cells": [
  {
   "cell_type": "markdown",
   "metadata": {},
   "source": [
    "Problem code: halleffect_metallic_hall_coefficient\n",
    "\n",
    "Solution by Joshua Leveillee\n",
    "\n",
    "Aluminum (with an atomic mass of 26.982 amu) has a density of $\\rho$ g/cm3 near room temperature. What is the Hall coefficient, $R_H$, if every valence electron acts as a charge carrier? (1 amu = $1.66\\times10^{−27}$\n",
    " kilograms and Avogadro's number is $6.022\\times10^23$)\n",
    " \n",
    "Let's first calculate the free carrier concentration. Given the atomic mass ($M$), density ($\\rho$), and Avogadro's number ($\\alpha$), the concentration of aluminum atoms is $n=\\rho\\alpha /M$. Al has three valence electrons, and there $3n$ free electrons to contribute. Once we have $n$, we can calculate the Hall coefficient as:\n",
    "\n",
    "\\begin{equation}\n",
    "R_{H} = -\\frac{1}{3ne}\n",
    "\\end{equation}\n"
   ]
  },
  {
   "cell_type": "code",
   "execution_count": 19,
   "metadata": {},
   "outputs": [
    {
     "name": "stdout",
     "output_type": "stream",
     "text": [
      "The concnetration of valence electrons is  1.8078052034689793e+23  cm^-3\n",
      "The Hall coefficient is  -3.452534109882527e-05  1/(C cm^-3)\n"
     ]
    }
   ],
   "source": [
    "## Inputs ####\n",
    "alpha = 6.022E23 #Avogadros number, in atoms / mol\n",
    "M = 26.982 # Atomic mass of Al, in g/mol\n",
    "M = M*1E-3 # convert to kg per mol\n",
    "rho = 2.7 # Density of Al in g/cm^3\n",
    "rho = rho*1E3 #convert to kg/m^3\n",
    "\n",
    "n = 3.*rho*alpha/M ## Calculate the free electron density\n",
    "\n",
    "n = n*1E-6 #convert to cm^-3\n",
    "\n",
    "print('The concnetration of valence electrons is ',n,' cm^-3')\n",
    "\n",
    "RH = -1/(n*1.60217662E-19) ##calculate the hall coefficient\n",
    "\n",
    "print('The Hall coefficient is ',RH,' 1/(C cm^-3)')"
   ]
  }
 ],
 "metadata": {
  "kernelspec": {
   "display_name": "Python 3",
   "language": "python",
   "name": "python3"
  },
  "language_info": {
   "codemirror_mode": {
    "name": "ipython",
    "version": 3
   },
   "file_extension": ".py",
   "mimetype": "text/x-python",
   "name": "python",
   "nbconvert_exporter": "python",
   "pygments_lexer": "ipython3",
   "version": "3.7.1"
  }
 },
 "nbformat": 4,
 "nbformat_minor": 2
}
