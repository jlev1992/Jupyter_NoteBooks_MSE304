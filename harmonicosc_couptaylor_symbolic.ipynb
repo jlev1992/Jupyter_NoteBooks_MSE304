{
 "cells": [
  {
   "cell_type": "markdown",
   "metadata": {},
   "source": [
    "Problem Code: harmonicosc_couptaylor_symbolic\n",
    "\n",
    "Solution by Joshua Leveillee\n",
    "\n",
    "Problem Statement: \n",
    "\n",
    "<p>\n",
    "Now that you have expressions for the four Coulomb contributions, you\n",
    "need to simplify the coupling term. For that, assume $x_1 \\ll R$ and $x_2\n",
    "\\ll R$. You will need the following second order Taylor expansion:\n",
    "</p>\n",
    "<p>\n",
    "$\\frac{1}{x+R} \\approx \\frac{1}{R}-\\frac{x}{R^2}+\\frac{x^2}{R^3}$\n",
    "</p>\n",
    "<p>\n",
    "Use this expansion for all four terms $V_{++}$, $V_{+-}$, $V_{-+}$,\n",
    "and $V_{--}$ and then add up the result.\n",
    "</p>\n",
    "<p>\n",
    "What is the expression for that sum?\n",
    "</p>\n",
    "<p>\n",
    "$\\hat{H}_c \\approx $ <input data-instavalue=\"submittedAnswer.taylor\" />\n",
    "</p>\n",
    "<p>\n",
    "    \n",
    "We have developed the expressions for $V_{++}$, $V_{+-}$, $V_{-+}$ in the previous problems. They are, with Taylor expansions:\n",
    "\n",
    "\\begin{equation}\n",
    "V_{++} = \\frac{K}{R+(x_2-x_1)} = K \\left ( \\frac{1}{R}-\\frac{(x_2-x_1)}{R^2}+\\frac{(x_2-x_1)^2}{R^3} \\right )\n",
    "\\end{equation}\n",
    "\n",
    "\\begin{equation}\n",
    "V_{--} = \\frac{K}{R} = K \\left (  \\frac{1}{R}  \\right )\n",
    "\\end{equation}\n",
    "\n",
    "\\begin{equation}\n",
    "V_{+-} = \\frac{-K}{R+x_2} = -K \\left (  \\frac{1}{R}-\\frac{x_2}{R^2} + \\frac{x_2^2}{R^3}  \\right )\n",
    "\\end{equation}\n",
    "\n",
    "\\begin{equation}\n",
    "V_{+-} = \\frac{-K}{R-x_1} = -K \\left (  \\frac{1}{R}-\\frac{-x_1}{R^2} + \\frac{|-x_1|^2}{R^3}  \\right )\n",
    "\\end{equation}\n",
    "\n",
    "First, we see that when all is added, the $1/R$ terms cancel, as well as the $1/R^2$. The sum of the $1/R^3$ turns out to be:\n",
    "\n",
    "\n",
    "\\begin{equation}\n",
    "\\sum V \\approx \\frac{-2x_1 x_2K}{R^3} \n",
    "\\end{equation}\n",
    "\n"
   ]
  },
  {
   "cell_type": "code",
   "execution_count": null,
   "metadata": {},
   "outputs": [],
   "source": []
  }
 ],
 "metadata": {
  "kernelspec": {
   "display_name": "Python 3",
   "language": "python",
   "name": "python3"
  },
  "language_info": {
   "codemirror_mode": {
    "name": "ipython",
    "version": 3
   },
   "file_extension": ".py",
   "mimetype": "text/x-python",
   "name": "python",
   "nbconvert_exporter": "python",
   "pygments_lexer": "ipython3",
   "version": "3.7.1"
  }
 },
 "nbformat": 4,
 "nbformat_minor": 2
}
