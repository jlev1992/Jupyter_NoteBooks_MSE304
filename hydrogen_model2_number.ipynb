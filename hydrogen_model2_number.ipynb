{
 "cells": [
  {
   "cell_type": "markdown",
   "metadata": {},
   "source": [
    "Problem Code: hydrogen_model2_number\n",
    "\n",
    "Solution by Joshua Leveillee\n",
    "\n",
    "Question:\n",
    "\n",
    "<p>\n",
    "You have a sample of crystalline semiconductor, with a band\n",
    "gap of $E_g$ eV, which is doped $p$-type. On\n",
    "average, the dopant atoms are far apart and you can neglect the\n",
    "interaction between them. Take the relative dielectric constant to be\n",
    "$\\varepsilon_\\mathrm{r}$ and the effective hole mass to be $m^∗_h$. (These numbers may or may not be the same as\n",
    "numbers reported online).\n",
    "</p>\n",
    "<p>\n",
    "Use the hydrogen atom model to estimate the average distance $d$ of a hole\n",
    "from its dopant atom in the ground state.\n",
    "</p>\n",
    "\n",
    "_____\n",
    "\n",
    "Solution:\n",
    "\n",
    "The average radius $a_0$ in the Bohr model of hydorgen (in a dielectric medium with effective particle mass) is given by:\n",
    "\n",
    "\\begin{equation}\n",
    "\\langle r \\rangle = \\frac{n^2h^2\\varepsilon^2}{Z\\pi me^2} = \\frac{n^2h^2\\varepsilon_0\\varepsilon_r}{Z\\pi m^{*}m_e e^2} = \\frac{\\varepsilon_r}{m^{*}}\\frac{n^2a_0}{Z}\n",
    "\\end{equation}\n",
    "\n",
    "In this case of the doped system, we can treat the effect $Z=1$, and calculated the ground state $n=1$:\n",
    "\n",
    "\\begin{equation}\n",
    "\\langle r \\rangle = \\frac{\\varepsilon_r}{m^{*}}a_0\n",
    "\\end{equation}"
   ]
  },
  {
   "cell_type": "code",
   "execution_count": 1,
   "metadata": {},
   "outputs": [
    {
     "name": "stdout",
     "output_type": "stream",
     "text": [
      "The orbit radius of the hole from the acceptor ion is 308.2442307692308  Angstroms\n"
     ]
    }
   ],
   "source": [
    "### INPUTS ###\n",
    "a0 = 0.529 # Bohr radius in Angstroms\n",
    "epsr = 15.15 # Relative dielectric constant\n",
    "m = 0.026 # Effective hole mass\n",
    "\n",
    "print(\"The orbit radius of the hole from the acceptor ion is\",a0*epsr/m,\" Angstroms\")"
   ]
  },
  {
   "cell_type": "code",
   "execution_count": null,
   "metadata": {},
   "outputs": [],
   "source": []
  }
 ],
 "metadata": {
  "kernelspec": {
   "display_name": "Python 3",
   "language": "python",
   "name": "python3"
  },
  "language_info": {
   "codemirror_mode": {
    "name": "ipython",
    "version": 3
   },
   "file_extension": ".py",
   "mimetype": "text/x-python",
   "name": "python",
   "nbconvert_exporter": "python",
   "pygments_lexer": "ipython3",
   "version": "3.7.1"
  }
 },
 "nbformat": 4,
 "nbformat_minor": 2
}
