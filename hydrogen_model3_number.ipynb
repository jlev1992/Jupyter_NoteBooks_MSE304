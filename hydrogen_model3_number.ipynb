{
 "cells": [
  {
   "cell_type": "markdown",
   "metadata": {},
   "source": [
    "Problem Code: hydrogen_model3_number\n",
    "\n",
    "Solution by Joshua Leveillee\n",
    "\n",
    "Problem: \n",
    "\n",
    "<p>\n",
    "You have a sample of crystalline {{params.mat}}, with a band\n",
    "gap of {{params.egap}} eV, which is doped $p$-type with {{params.dopant}}. On\n",
    "average, the dopant atoms are far apart and you can neglect the\n",
    "interaction between them. Take the relative dielectric constant to be\n",
    "$\\varepsilon_\\mathrm{r, {{params.mat}} }$ = {{params.epsr}} and the effective hole mass to be $m^∗_h$ =\n",
    "{{params.effmass}} $m_e$. (These numbers may or may not be the same as\n",
    "numbers reported online).\n",
    "</p>\n",
    "<p>\n",
    "Use the hydrogen model to estimate the temperature at which $kT$ is\n",
    "exactly equal to the binding energy of the electron to the dopant atom.\n",
    "</p>\n",
    "\n",
    "____\n",
    "\n",
    "Solution:\n",
    "\n",
    "As we've done before, we can use the energy of the ground state of hydrogen in eV adjusted by the dielectric constant of the medium and the effective mass of the particle (see hydrogen_model1_number.ipynb):\n",
    "\n",
    "\\begin{equation}\n",
    "E_{binding} = -\\frac{m^{*}}{\\varepsilon_r^2}13.6\n",
    "\\end{equation}\n",
    "\n",
    "Once the thermal energy $k_B T$ is equal to this energy, the particle can be free from it's impurity. Thus, the liberation temperature is:\n",
    "\n",
    "\\begin{equation}\n",
    "T = -\\frac{m^{*}}{k_B \\varepsilon_r^2}13.6\n",
    "\\end{equation}"
   ]
  },
  {
   "cell_type": "code",
   "execution_count": 1,
   "metadata": {},
   "outputs": [
    {
     "name": "stdout",
     "output_type": "stream",
     "text": [
      "The temperature required to free the particle from the impurity is 179.3280648294403 K\n"
     ]
    }
   ],
   "source": [
    "### INPUTS ###\n",
    "mstar = 0.14 ## effective mass\n",
    "epsr = 11.1 ## Relative dielectric constant\n",
    "kB = 8.61733E-5 ## Boltzmann's constant in eV/K\n",
    "\n",
    "print(\"The temperature required to free the particle from the impurity is\",13.6*mstar/(kB*epsr**2),\"K\")"
   ]
  },
  {
   "cell_type": "code",
   "execution_count": null,
   "metadata": {},
   "outputs": [],
   "source": []
  }
 ],
 "metadata": {
  "kernelspec": {
   "display_name": "Python 3",
   "language": "python",
   "name": "python3"
  },
  "language_info": {
   "codemirror_mode": {
    "name": "ipython",
    "version": 3
   },
   "file_extension": ".py",
   "mimetype": "text/x-python",
   "name": "python",
   "nbconvert_exporter": "python",
   "pygments_lexer": "ipython3",
   "version": "3.7.1"
  }
 },
 "nbformat": 4,
 "nbformat_minor": 2
}
