{
 "cells": [
  {
   "cell_type": "markdown",
   "metadata": {},
   "source": [
    "Problem Code: hydrogen_radialprob_number\n",
    "\n",
    "Solution by Joshua Leveillee\n",
    "\n",
    "Problem Statement: The radial probability density function for a specific orbital is $P(r)=Cr^2e^{-2Zr/a_0}$. Where C is a constant. Find at which $r$ the maximum of $P(r)$ occurs given $Z$ and $a_0$:\n",
    "\n",
    "Solution: To find the extrema, we must determine $r$ that satisfies $dP(r)/dr=0$. Let's start by differentiating $P(r)$, calling on the product rule to do so:\n",
    "\n",
    "\\begin{equation}\n",
    "\\frac{dP(r)}{dr} = C \\left (2re^{-2Zr/a_0}+r^2e^{-2Zr/a_0}\\left ( \\frac{-2Z}{a_0} \\right ) \\right )\n",
    "\\end{equation}\n",
    "\n",
    "No, setting $\\frac{dP(r)}{dr}$ to zero and dividing by the joint constants between additive terms:\n",
    "\n",
    "\\begin{equation}\n",
    "0 =  2+r\\left ( \\frac{-2Z}{a_0} \\right ) \n",
    "\\end{equation}\n",
    "\n",
    "Solving for $r$:\n",
    "\n",
    "\\begin{equation}\n",
    "r = \\frac{a_0}{Z}\n",
    "\\end{equation}"
   ]
  },
  {
   "cell_type": "code",
   "execution_count": 4,
   "metadata": {},
   "outputs": [
    {
     "name": "stdout",
     "output_type": "stream",
     "text": [
      "The maximum probability radius is  0.1\n"
     ]
    }
   ],
   "source": [
    "## Inputs ##\n",
    "Z = 5. ##Constant in equation\n",
    "a0 = 0.5 ## Bohr radius in Angstrom\n",
    "\n",
    "r = a0/Z\n",
    "\n",
    "print('The maximum probability radius is ',r)"
   ]
  },
  {
   "cell_type": "code",
   "execution_count": null,
   "metadata": {},
   "outputs": [],
   "source": []
  }
 ],
 "metadata": {
  "kernelspec": {
   "display_name": "Python 3",
   "language": "python",
   "name": "python3"
  },
  "language_info": {
   "codemirror_mode": {
    "name": "ipython",
    "version": 3
   },
   "file_extension": ".py",
   "mimetype": "text/x-python",
   "name": "python",
   "nbconvert_exporter": "python",
   "pygments_lexer": "ipython3",
   "version": "3.7.1"
  }
 },
 "nbformat": 4,
 "nbformat_minor": 2
}
