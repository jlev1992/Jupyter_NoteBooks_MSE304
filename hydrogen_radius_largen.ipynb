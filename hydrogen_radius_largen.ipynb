{
 "cells": [
  {
   "cell_type": "markdown",
   "metadata": {},
   "source": [
    "Problem Code: hydrogen_radius_largen\n",
    "\n",
    "Solution by Joshua Leveillee\n",
    "\n",
    "What is the most probable radius of a hydrogen atom excited to the $n^{th}$ state? The Bohr radius of hydrogen is 0.0529 nm.\n",
    "\n",
    "Solution: Equate the rotational quantum mechanical energy of the Bohr model $E_{Bohr}$ to the classical orbital energy of the electric with a given radius $E_{classical}$. \n",
    "\n",
    "\\begin{equation}\n",
    "E_{Bohr} = \\frac{n^2h^2}{8\\pi^2mr^2}=\\frac{e^2}{8\\pi\\varepsilon_0 r} = E_{classical} \n",
    "\\end{equation}\n",
    "\n",
    "Rearranging gives:\n",
    "\n",
    "\\begin{equation}\n",
    "r = n^2 \\left( \\frac{h^2\\varepsilon_0 }{\\pi m e^2} \\right ) = n^2 a_0\n",
    "\\end{equation}\n"
   ]
  },
  {
   "cell_type": "code",
   "execution_count": 3,
   "metadata": {},
   "outputs": [
    {
     "name": "stdout",
     "output_type": "stream",
     "text": [
      "The radius of the  112 th orbital is  0.6635776000000001 um\n"
     ]
    }
   ],
   "source": [
    "## Inupts ###\n",
    "a0 = 0.0529 ## Bohr rad in nm\n",
    "a0 = a0*1E-9\n",
    "n = 112 # quantum number n\n",
    "\n",
    "r = (n*n*a0)*1E6\n",
    "\n",
    "print('The radius of the ',n,'th orbital is ',r  , 'um')"
   ]
  },
  {
   "cell_type": "code",
   "execution_count": null,
   "metadata": {},
   "outputs": [],
   "source": []
  }
 ],
 "metadata": {
  "kernelspec": {
   "display_name": "Python 3",
   "language": "python",
   "name": "python3"
  },
  "language_info": {
   "codemirror_mode": {
    "name": "ipython",
    "version": 3
   },
   "file_extension": ".py",
   "mimetype": "text/x-python",
   "name": "python",
   "nbconvert_exporter": "python",
   "pygments_lexer": "ipython3",
   "version": "3.7.1"
  }
 },
 "nbformat": 4,
 "nbformat_minor": 2
}
