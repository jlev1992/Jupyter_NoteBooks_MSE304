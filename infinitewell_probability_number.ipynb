{
 "cells": [
  {
   "cell_type": "markdown",
   "metadata": {},
   "source": [
    "Problem Code: infinitewell_probability_number\n",
    "\n",
    "Solution By: Joshua Leveillee\n",
    "\n",
    "Consider a 1-dimensional infinite potential well for which the potential is zero between \n",
    "0 and L nm ($\\infty$ otherwise). \n",
    "\n",
    "What is the probability to find the electron between $x_1$ and x$_2$ nm, if the electron is in the state $n$?\n",
    "\n",
    "Solution: First, let's write down the WF of the electron in a 1D infinite well:\n",
    "\n",
    "\\begin{equation}\n",
    "\\psi_{n}(x) = \\sqrt{\\frac{2}{L}}sin(\\frac{n\\pi}{L}x)\n",
    "\\end{equation}\n",
    "\n",
    "We must square this wave function to get the probability amplitude:\n",
    "\n",
    "\\begin{equation}\n",
    "|\\psi_{n}(x)|^2 = \\frac{2}{L}sin^2(\\frac{n\\pi}{L}x)\n",
    "\\end{equation}\n",
    "\n",
    "Now, the determine the probability of finding the electron between $x_1$ and $x_2$, we must integrate the probability ampltiude between these bounds:\n",
    "\n",
    "\\begin{equation}\n",
    "P_{x_1}^{x_2}=\\int_{x_1}^{x_2}|\\psi_{n}(x)|^2(dx) = \\int_{x_1}^{x_2}\\frac{2}{L}sin^2(\\frac{n\\pi}{L}x)(dx) \n",
    "\\end{equation}\n",
    "\n",
    "Completing the integral analytically by using the identity: $Asin^2(kx) = A(\\frac{1}{2}-cos(2kx))$, we can get the final solution:\n",
    "\n",
    "\\begin{equation}\n",
    "\\frac{2}{L}\\int_{x_1}^{x_2}\\left ( \\frac{1}{2}-cos(\\frac{2n\\pi}{L}x) \\right )(dx) =\\frac{2}{L} \\left [ \\frac{x}{2}-\\frac{L}{4n\\pi}sin(\\frac{2n\\pi}{L}x) \\right ]^{x_2}_{x_1}\n",
    "\\end{equation}"
   ]
  },
  {
   "cell_type": "code",
   "execution_count": 13,
   "metadata": {},
   "outputs": [
    {
     "name": "stdout",
     "output_type": "stream",
     "text": [
      "The probability of finding the particle between x1 and x2 is  0.15304688414038484\n"
     ]
    }
   ],
   "source": [
    "import math\n",
    "\n",
    "###inputs####\n",
    "x1 = 10. #nm\n",
    "x2 = 21. #nm\n",
    "L = 73. #nm\n",
    "n = 6\n",
    "pi = 3.14159\n",
    "\n",
    "A = 2./L\n",
    "\n",
    "P1 = ((x1/2.)-(L/(4.*n*pi))*math.sin((2.*n*pi*x1)/L))*A\n",
    "P2 = ((x2/2.)-(L/(4.*n*pi))*math.sin((2.*n*pi*x2)/L))*A\n",
    "print('The probability of finding the particle between x1 and x2 is ',P2-P1)"
   ]
  },
  {
   "cell_type": "code",
   "execution_count": null,
   "metadata": {},
   "outputs": [],
   "source": []
  }
 ],
 "metadata": {
  "kernelspec": {
   "display_name": "Python 3",
   "language": "python",
   "name": "python3"
  },
  "language_info": {
   "codemirror_mode": {
    "name": "ipython",
    "version": 3
   },
   "file_extension": ".py",
   "mimetype": "text/x-python",
   "name": "python",
   "nbconvert_exporter": "python",
   "pygments_lexer": "ipython3",
   "version": "3.7.1"
  }
 },
 "nbformat": 4,
 "nbformat_minor": 2
}
