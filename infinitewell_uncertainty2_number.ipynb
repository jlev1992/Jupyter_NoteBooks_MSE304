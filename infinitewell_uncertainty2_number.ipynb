{
 "cells": [
  {
   "cell_type": "markdown",
   "metadata": {},
   "source": [
    "Problem Code: infinitewell_uncertainty2_number\n",
    "\n",
    "Solution by Joshua Leveillee\n",
    "\n",
    "Problem Statement: Consider an electron in an infinite potential well of size L nm. Find the uncertainty in the velocity and therefore the uncertainty in the kinetic energy of the electron.\n",
    "\n",
    "Solution: First, let's write down the uncertainty principle (UP):, relating the standard deviation in the position, the standard deviation in the momentum, to $\\hbar$:\n",
    "\n",
    "\\begin{equation}\n",
    "\\sigma_{x}\\sigma_{p} \\ge \\frac{\\hbar}{2}\n",
    "\\end{equation}\n",
    "\n",
    "There are two ways we can go about solving for the uncertainty in the kinetic energy. First, we can use the relation between momentum and energy as $p^2/(2m)=E$. Since, we are solving for uncertainty, we can write $\\sigma_{p}^2/(2m)=\\sigma_{E}$\n",
    "\n",
    "We can derive $\\sigma_{E}$ from the UP. Starting with squaring both sides:\n",
    "\n",
    "\\begin{equation}\n",
    "\\sigma_{x}^2\\sigma_{p}^2 \\ge \\frac{\\hbar^2}{4}\n",
    "\\end{equation}\n",
    "\n",
    "Now, dividing both sides by (2m) to get $\\sigma_{E}=$ on the LHS:\n",
    "\n",
    "\\begin{equation}\n",
    "\\sigma_{x}^2\\frac{\\sigma_{p}^2}{2m} \\ge \\frac{\\hbar^2}{8m} \\rightarrow \\sigma_{x}^2\\sigma_{E}\\ge\\frac{\\hbar^2}{8m}\n",
    "\\end{equation}\n",
    "\n",
    "Rearranging for $\\sigma_{E}=$:\n",
    "\n",
    "\n",
    "\\begin{equation}\n",
    "\\sigma_{E}\\ge\\frac{\\hbar^2}{\\sigma_{x}^2}\\frac{1}{8m}\n",
    "\\end{equation}\n",
    "\n",
    "Since we have confined are our uncertainty in $\\sigma_{x}$ restricted to the length $L$ of the well, we can finally write:\n",
    "\n",
    "\\begin{equation}\n",
    "\\sigma_{E}\\ge\\frac{\\hbar^2}{L^2}\\frac{1}{8m}\n",
    "\\end{equation}\n",
    "\n"
   ]
  },
  {
   "cell_type": "code",
   "execution_count": 8,
   "metadata": {},
   "outputs": [
    {
     "name": "stdout",
     "output_type": "stream",
     "text": [
      "The minimum uncertainty in KE is  3.598836483821339  eV\n"
     ]
    }
   ],
   "source": [
    "##Inputs##\n",
    "L = 0.103 #length of well in nm\n",
    "L = L*1E-9 #convert to meters\n",
    "m = 9.11E-31 # mass of electrons in kg\n",
    "hbar = 1.055E-34 #hbar in J*s\n",
    "q = 1.6E-19\n",
    "\n",
    "KE = ((hbar*hbar)/(L*L))*(1/(2*m))*(1./q)\n",
    "\n",
    "print('The minimum uncertainty in KE is ',KE,' eV')"
   ]
  },
  {
   "cell_type": "code",
   "execution_count": null,
   "metadata": {},
   "outputs": [],
   "source": []
  }
 ],
 "metadata": {
  "kernelspec": {
   "display_name": "Python 3",
   "language": "python",
   "name": "python3"
  },
  "language_info": {
   "codemirror_mode": {
    "name": "ipython",
    "version": 3
   },
   "file_extension": ".py",
   "mimetype": "text/x-python",
   "name": "python",
   "nbconvert_exporter": "python",
   "pygments_lexer": "ipython3",
   "version": "3.7.1"
  }
 },
 "nbformat": 4,
 "nbformat_minor": 2
}
