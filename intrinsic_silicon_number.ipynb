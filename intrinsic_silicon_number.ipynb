{
 "cells": [
  {
   "cell_type": "markdown",
   "metadata": {},
   "source": [
    "Problem Code: intrinsic_silicon_number\n",
    "\n",
    "Solution by Joshua Leveillee\n",
    "\n",
    "Problem Statement:\n",
    "\n",
    "<p>\n",
    "Consider $n$-type Si ($n_i=1.5 \\cdot 10^{10}$ cm$^{−3}$ at initial temperature $T_i$\n",
    "K). Assume that the Si band gap energy is 1.1 eV and does not change\n",
    "with temperature.\n",
    "</p>\n",
    "<p>\n",
    "What is the intrinsic carrier concentration at a higher final temperature $T_f$ K?\n",
    "</p>\n",
    "_________\n",
    "\n",
    "Solution:\n",
    "\n",
    "We are asked to find the carrier concentration in Si at a higher temperature given an initial temperature. The intrinsic carrier concentration at $T_i$ is given by:\n",
    "\n",
    "\\begin{equation}\n",
    "n_i(T_i) = \\frac{1}{4}\\left ( \\frac{2 k_B T_i}{\\pi \\hbar^2} \\right )^{3/2}(m_v m_c)^{3/4}e^{-E_g/2 K_B T_i}\n",
    "\\end{equation}\n",
    "\n",
    "And at the final temperature:\n",
    "\n",
    "\\begin{equation}\n",
    "n_i(T_f) = \\frac{1}{4}\\left ( \\frac{2 k_B T_f}{\\pi \\hbar^2} \\right )^{3/2}(m_v m_c)^{3/4}e^{-E_g/2 K_B T_f}\n",
    "\\end{equation}\n",
    "\n",
    "If we divide the final equation by the initial, and multiply both sides by $n_i(T_i)$, we get:\n",
    "\n",
    "\\begin{equation}\n",
    "n_f(T_f) = n_i(T_i) \\left ( \\frac{T_f}{T_i} \\right )^{3/2}e^{\\frac{E_g}{2K_B}\\left ( \\frac{1}{T_i}-\\frac{1}{T_f} \\right )}\n",
    "\\end{equation}"
   ]
  },
  {
   "cell_type": "code",
   "execution_count": 8,
   "metadata": {},
   "outputs": [
    {
     "name": "stdout",
     "output_type": "stream",
     "text": [
      "The final carrier concentration is  664.1541939561058 x10^10 cm^-3\n"
     ]
    }
   ],
   "source": [
    "from math import *\n",
    "## Inputs ##\n",
    "ni = 1.5E10 ## inital carriers\n",
    "Ti = 300.0 ## initial T\n",
    "Tf = 408.0 ## final T\n",
    "#############\n",
    "\n",
    "Eg = 1.1 ## energy gap in eV\n",
    "kB = 8.617E-5 ## Boltzmann's constant in eV/K\n",
    "\n",
    "nf = ni*((Tf/Ti)**(3/2))*exp((Eg/(2*kB))*((1/Ti)-(1/Tf)))\n",
    "\n",
    "print(\"The final carrier concentration is \",nf/1E10,\"x10^10 cm^-3\")"
   ]
  },
  {
   "cell_type": "code",
   "execution_count": null,
   "metadata": {},
   "outputs": [],
   "source": []
  }
 ],
 "metadata": {
  "kernelspec": {
   "display_name": "Python 3",
   "language": "python",
   "name": "python3"
  },
  "language_info": {
   "codemirror_mode": {
    "name": "ipython",
    "version": 3
   },
   "file_extension": ".py",
   "mimetype": "text/x-python",
   "name": "python",
   "nbconvert_exporter": "python",
   "pygments_lexer": "ipython3",
   "version": "3.7.1"
  }
 },
 "nbformat": 4,
 "nbformat_minor": 2
}
