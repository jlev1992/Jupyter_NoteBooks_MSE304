{
 "cells": [
  {
   "cell_type": "markdown",
   "metadata": {},
   "source": [
    "Problem Code: lengthchange_shiftedpotential_number\n",
    "\n",
    "Solution by Joshua Leveillee\n",
    "\n",
    "Think about changing the length of a nanowire (NW) and how this changes the ground state energy of the electrons. Consider two NWs that you each approximate as an infinite quantum well. Wire 1 has a length of $L_1$ and wire 2 has a length of L$_2$. What is the difference in energy of the an electron confined to these wires, both in the ground state.\n",
    "\n",
    "Solutions: The energy of a particle in a well of length $L$ and in state $n$ is:\n",
    "\n",
    "\\begin{equation}\n",
    "E(L) = \\frac{\\hbar^2 n^2 \\pi^2}{2mL^2}\n",
    "\\end{equation}\n",
    "\n",
    "Thus, the energy difference difference is simply $\\Delta(E)=E(L_2)-E(L_1)$\n"
   ]
  },
  {
   "cell_type": "code",
   "execution_count": 1,
   "metadata": {},
   "outputs": [
    {
     "name": "stdout",
     "output_type": "stream",
     "text": [
      "0.007639549947864787\n"
     ]
    }
   ],
   "source": [
    "### Inputs ####\n",
    "L1 = 7.0 ## nm\n",
    "L2 = 103.0 ## nm\n",
    "L1 = L1*1E-9 ; L2 = L2*1E-9\n",
    "hbar = 1.0545718E-34\n",
    "pi = 3.14159\n",
    "m = 9.109E-31\n",
    "n = 1.\n",
    "\n",
    "E1 = (hbar*hbar*n*n*pi*pi)/(2.*m*L1*L1)\n",
    "E2 = (hbar*hbar*n*n*pi*pi)/(2.*m*L2*L2)\n",
    "\n",
    "dE = (E1-E2)*6.242e+18\n",
    "print(dE)"
   ]
  },
  {
   "cell_type": "code",
   "execution_count": null,
   "metadata": {},
   "outputs": [],
   "source": []
  }
 ],
 "metadata": {
  "kernelspec": {
   "display_name": "Python 3",
   "language": "python",
   "name": "python3"
  },
  "language_info": {
   "codemirror_mode": {
    "name": "ipython",
    "version": 3
   },
   "file_extension": ".py",
   "mimetype": "text/x-python",
   "name": "python",
   "nbconvert_exporter": "python",
   "pygments_lexer": "ipython3",
   "version": "3.7.1"
  }
 },
 "nbformat": 4,
 "nbformat_minor": 2
}
