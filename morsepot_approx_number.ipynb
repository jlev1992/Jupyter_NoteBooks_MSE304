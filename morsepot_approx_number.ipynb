{
 "cells": [
  {
   "cell_type": "markdown",
   "metadata": {},
   "source": [
    "Problem Code: morsepot_approx_number\n",
    "\n",
    "Solution by Joshua Leveillee\n",
    "\n",
    "<p>\n",
    "Given a diatomic bond system described by the Morse potential,\n",
    "$$D_e\\left( 1-e^{-a(r-r_e)} \\right)^2,$$ where $r_e$ is the\n",
    "equilibrium separation and $D_e = {{params.D}} \\times 10^{-19}$ J, $a =\n",
    "{{params.a}} \\times 10^{10}$ m$^{-1}$ are constants.\n",
    "</p>\n",
    "<p>\n",
    "Calculate the spring constant $k$ such that a simple harmonic oscillator model $V(r)$ ~ $\\frac{1}{2}k (r-r_e)^2$ approximates the Morse potential very close to $r$ = $r_e$ = 1 Angstrom.  \n",
    "</p>\n",
    "<p>\n",
    "Hint: Use a second order Taylor expansion.\n",
    "</p>\n",
    "\n",
    "The taylor expansion of a function of $x$ around a dependent parameter $x=x_0$ is given by:\n",
    "\n",
    "\\begin{equation}\n",
    "T[f(x)]_{x_0} = f(x_0) + \\frac{1}{1!}\\frac{d}{dx}f(x_0)(x-x_0)+\\frac{1}{2!}\\frac{d^2}{dx^2}f(x_0)(x-x_0)^2\n",
    "\\end{equation}\n",
    "\n",
    "Let's calculate the first and second derivatives for the Morse Potential:\n",
    "\n",
    "\\begin{equation}\n",
    "\\frac{d}{dr}V_{Morse}(r) = 2aD_e e^{-a(r-r_e)}(1-e^{-a(r-r_e)})\n",
    "\\end{equation}\n",
    "\n",
    "\\begin{equation}\n",
    "\\frac{d^2}{dr^2}V_{Morse}(r) = D(2a^2e^{-2a(r-r_e)}-2a^2e^{-a(r-r_e)} \\left ( 1 - e^{-a(r-r_e)} \\right ) )\n",
    "\\end{equation}\n",
    "\n",
    "Now, we can evaluate $V_{Morse}(r)$, $\\frac{d}{dr}V_{Morse}(r)$, and $\\frac{d^2}{dr^2}V_{Morse}(r)$ at $r=r_e$. The first two terms are $0$, but the second derivative term comes out to $2Da^2$. The taylor expansion to second order is then:\n",
    "\n",
    "\\begin{equation}\n",
    "T[V_{Morse}(r)]_{r_e} = \\frac{1}{2}2Da^2(r-r_e)^2 = \\frac{1}{2}K(r-r_e)^2\n",
    "\\end{equation}\n",
    "\n",
    "Thus, the spring constant is $K = 2Da^2$."
   ]
  },
  {
   "cell_type": "code",
   "execution_count": 5,
   "metadata": {},
   "outputs": [
    {
     "name": "stdout",
     "output_type": "stream",
     "text": [
      "The spring constant is  1440.0  N/m\n"
     ]
    }
   ],
   "source": [
    "## Inputs ##\n",
    "De = 8E-19 ### J\n",
    "a = 3E10 ## m^-1\n",
    "\n",
    "K = De*a**2*2\n",
    "\n",
    "print('The spring constant is ',K,' N/m')"
   ]
  },
  {
   "cell_type": "code",
   "execution_count": null,
   "metadata": {},
   "outputs": [],
   "source": []
  }
 ],
 "metadata": {
  "kernelspec": {
   "display_name": "Python 3",
   "language": "python",
   "name": "python3"
  },
  "language_info": {
   "codemirror_mode": {
    "name": "ipython",
    "version": 3
   },
   "file_extension": ".py",
   "mimetype": "text/x-python",
   "name": "python",
   "nbconvert_exporter": "python",
   "pygments_lexer": "ipython3",
   "version": "3.7.1"
  }
 },
 "nbformat": 4,
 "nbformat_minor": 2
}
