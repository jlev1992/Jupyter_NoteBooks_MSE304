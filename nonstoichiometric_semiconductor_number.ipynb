{
 "cells": [
  {
   "cell_type": "markdown",
   "metadata": {},
   "source": [
    "Problem Code: nonstoichiometric_semiconductor_number\n",
    "\n",
    "Solution by Joshua Leveillee\n",
    "\n",
    "Problem:\n",
    "\n",
    "<p>\n",
    "In a reducing atmosphere, the oxygen ion in TiO<sub>2</sub> will be reduced and leak out, leaving behind oxygen vacancies and free electrons, and TiO<sub>2</sub> will become a n-type semiconductor. The defect reaction equation is as follows (the superscript \".\" means negative charge, and \"×\" means positive charge, with respect to the lattice ion).\n",
    "\n",
    "$$\\mathrm{O\\rightarrow \\frac{1}{2}O_2 \\uparrow + 2e^\\cdot + [V_{O_2}^{\\times\\times}]}$$\n",
    "</p>\n",
    "<p>\n",
    "The band gap of TiO<sub>2</sub> is 3.2 eV. At $T$ = 373 K and an\n",
    "equilibrium oxygen partial pressure of 10$^3$ Pa, the oxygen vacancy\n",
    "concentration is $ {{params.vo2}} \\times 10^{16}$ cm$^{-3}$.\n",
    "</p>\n",
    "<p>\n",
    "What is the free electron concentration? (Hint: the thermal energy $kT$ at 373 K is 0.032 eV.)\n",
    "</p>\n",
    "\n",
    "Solution:\n",
    "\n",
    "It is given in the problem that all electrons that are liberated from oxygen vacancies will contribute to the majority carriers. We know that there are two electrons donated per vacancy, and thus the final answer is:\n",
    "\n",
    "\\begin{equation}\n",
    "n = 2*V_O_2\n",
    "\\end{equation}"
   ]
  },
  {
   "cell_type": "code",
   "execution_count": null,
   "metadata": {},
   "outputs": [],
   "source": []
  }
 ],
 "metadata": {
  "kernelspec": {
   "display_name": "Python 3",
   "language": "python",
   "name": "python3"
  },
  "language_info": {
   "codemirror_mode": {
    "name": "ipython",
    "version": 3
   },
   "file_extension": ".py",
   "mimetype": "text/x-python",
   "name": "python",
   "nbconvert_exporter": "python",
   "pygments_lexer": "ipython3",
   "version": "3.7.1"
  }
 },
 "nbformat": 4,
 "nbformat_minor": 2
}
