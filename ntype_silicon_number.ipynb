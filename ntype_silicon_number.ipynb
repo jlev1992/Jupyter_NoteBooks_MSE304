{
 "cells": [
  {
   "cell_type": "markdown",
   "metadata": {},
   "source": [
    "Problem Code: ntype_silicon_number\n",
    "\n",
    "Solution by Joshua Leveillee\n",
    "\n",
    "Problem Statement:\n",
    "\n",
    "<p>\n",
    "Consider $n$-type Si ($n_i=1.5 \\cdot 10^{10}$ cm$^{−3}$ at $T=300$ K)\n",
    "which is doped with $N_d$ cm$^{−3}$\n",
    "phosphorus atoms. Assume that the Si band gap energy is 1.1 eV and\n",
    "does not change with temperature.\n",
    "</p>\n",
    "<p>\n",
    "How far is the Fermi level from the top of the valence band $E_V$?\n",
    "</p>"
   ]
  },
  {
   "cell_type": "code",
   "execution_count": null,
   "metadata": {},
   "outputs": [],
   "source": []
  }
 ],
 "metadata": {
  "kernelspec": {
   "display_name": "Python 3",
   "language": "python",
   "name": "python3"
  },
  "language_info": {
   "codemirror_mode": {
    "name": "ipython",
    "version": 3
   },
   "file_extension": ".py",
   "mimetype": "text/x-python",
   "name": "python",
   "nbconvert_exporter": "python",
   "pygments_lexer": "ipython3",
   "version": "3.7.1"
  }
 },
 "nbformat": 4,
 "nbformat_minor": 2
}
