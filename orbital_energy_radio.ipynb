{
 "cells": [
  {
   "cell_type": "markdown",
   "metadata": {},
   "source": [
    "Problem Code: orbital_energy_radio\n",
    "    \n",
    "Solution by Joshua Leveillee\n",
    "\n",
    "Solution: Two energy vs bond length curves are present. One shows energy decreasing continously till infinite distance and the other shows the energy dipping down to a minimum at finite value of $r$. The curve with a minimum in the energy is the bonding orbital, as it has a bond length that minimizes the total system energy. The other curve does not have a minimum, and the minimum in energy is when the bond length is infinite distance, thus this is the anti-bonding orbital."
   ]
  },
  {
   "cell_type": "code",
   "execution_count": null,
   "metadata": {},
   "outputs": [],
   "source": []
  }
 ],
 "metadata": {
  "kernelspec": {
   "display_name": "Python 3",
   "language": "python",
   "name": "python3"
  },
  "language_info": {
   "codemirror_mode": {
    "name": "ipython",
    "version": 3
   },
   "file_extension": ".py",
   "mimetype": "text/x-python",
   "name": "python",
   "nbconvert_exporter": "python",
   "pygments_lexer": "ipython3",
   "version": "3.7.1"
  }
 },
 "nbformat": 4,
 "nbformat_minor": 2
}
