{
 "cells": [
  {
   "cell_type": "markdown",
   "metadata": {},
   "source": [
    "Problem code: photoelectric_effect_kinetic_energy\n",
    "\n",
    "Solution by Joshua Leveillee\n",
    "\n",
    "Energy from a photon in excess of the work function ($\\Phi$) is transformed to kinetic energy for the excited electron: $(KE)_{electron} = E_{photon}-\\Phi$. What is the kinetic energy of electrons on a surface of work function $\\Phi$ eV when exposed to UV light with a wavelength of $\\lambda$ nm. \n",
    "\n",
    "Let's begin by using the relation between the speed of light ($c=2.998\\times 10^{8}$ m/s), wavelength ($\\lambda$), and frequency ($\\nu$) to get the freqeuncy of the given light:\n",
    "\n",
    "\\begin{equation}\n",
    "\\nu = \\frac{c}{\\lambda}\n",
    "\\end{equation}\n",
    "\n",
    "Now, since we have $\\nu$, we can use Plannk's law to calculate the photon energy:\n",
    "\n",
    "\\begin{equation}\n",
    "E_{photon} = h\\nu\n",
    "\\end{equation}\n",
    "\n",
    "Where $h=6.626\\times 10^{-34} J\\cdot s$ is Plack's constant. Remember to present your final answer in eV ($1 J = 6.242 \\times 10^{18} eV$)."
   ]
  },
  {
   "cell_type": "code",
   "execution_count": 4,
   "metadata": {},
   "outputs": [
    {
     "name": "stdout",
     "output_type": "stream",
     "text": [
      "Kinetic energy of emitted electron is  1.667787850799999 eV\n"
     ]
    }
   ],
   "source": [
    "##Inputs\n",
    "\n",
    "lam = 200.0 ## Wavelength of light in nm\n",
    "phi = 4.532 ## Work function in eV\n",
    "lam = lam*1E-9 ## convert wave length to m\n",
    "c = 2.998E8 ## speed of light in m/s\n",
    "h = 6.626E-34 #Planck's constant in J*s\n",
    "\n",
    "nu = c/lam ## frequency of photon in 1/s\n",
    "\n",
    "E_photon = h*nu\n",
    "\n",
    "E_photon = E_photon*6.242E18 ## convert to eV\n",
    "\n",
    "KE_elec = E_photon - phi\n",
    "\n",
    "print('Kinetic energy of emitted electron is ',KE_elec,'eV')"
   ]
  },
  {
   "cell_type": "code",
   "execution_count": null,
   "metadata": {},
   "outputs": [],
   "source": []
  }
 ],
 "metadata": {
  "kernelspec": {
   "display_name": "Python 3",
   "language": "python",
   "name": "python3"
  },
  "language_info": {
   "codemirror_mode": {
    "name": "ipython",
    "version": 3
   },
   "file_extension": ".py",
   "mimetype": "text/x-python",
   "name": "python",
   "nbconvert_exporter": "python",
   "pygments_lexer": "ipython3",
   "version": "3.7.1"
  }
 },
 "nbformat": 4,
 "nbformat_minor": 2
}
