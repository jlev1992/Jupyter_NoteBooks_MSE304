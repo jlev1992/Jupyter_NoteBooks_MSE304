{
 "cells": [
  {
   "cell_type": "markdown",
   "metadata": {},
   "source": [
    "Problem code: photon_energy_number\n",
    "\n",
    "Solution by Joshua Leveillee\n",
    "\n",
    "Problem statement: You have access to a laser of wave length $\\lambda$. What is the energy of a photon in the beam?\n",
    "\n",
    "To begin solving this problem, we need to recall the fundemental relation between the speed of light $c$, the wavelength $\\lambda$, and the frequency $\\nu$.\n",
    "\n",
    "\\begin{equation}\n",
    "\\nu = c/\\lambda\n",
    "\\end{equation}\n",
    "\n",
    "The energy of a photon is given by Plannk's equation, relating the photon energy $E$ to the frequency $\\nu$ and the Planck's constant $h=6.626\\times 10^{-34}$ $J \\cdot s$:\n",
    "\n",
    "\\begin{equation}\n",
    "E = h\\nu\n",
    "\\end{equation}\n",
    "\n",
    "Just remember, a eV of energy is equal to $6.242 \\times 10^{18}$ J.  "
   ]
  },
  {
   "cell_type": "code",
   "execution_count": 1,
   "metadata": {},
   "outputs": [
    {
     "name": "stdout",
     "output_type": "stream",
     "text": [
      "Energy of the photon is  1.9776037801594897e-09  eV\n"
     ]
    }
   ],
   "source": [
    "## Inputs #####\n",
    "L = 627 # wavelength in nm\n",
    "c = 2.998E8 #speed of light in m/s\n",
    "nu = c/L ## frequency in s^-1\n",
    "h = 6.626E-34 #Plancks constant in J*s\n",
    "\n",
    "E = h*nu ## energy in J\n",
    "\n",
    "E = E*6.242E18 # Convert to eV\n",
    "\n",
    "print('Energy of the photon is ',E,' eV')"
   ]
  },
  {
   "cell_type": "code",
   "execution_count": null,
   "metadata": {},
   "outputs": [],
   "source": []
  }
 ],
 "metadata": {
  "kernelspec": {
   "display_name": "Python 3",
   "language": "python",
   "name": "python3"
  },
  "language_info": {
   "codemirror_mode": {
    "name": "ipython",
    "version": 3
   },
   "file_extension": ".py",
   "mimetype": "text/x-python",
   "name": "python",
   "nbconvert_exporter": "python",
   "pygments_lexer": "ipython3",
   "version": "3.7.1"
  }
 },
 "nbformat": 4,
 "nbformat_minor": 2
}
