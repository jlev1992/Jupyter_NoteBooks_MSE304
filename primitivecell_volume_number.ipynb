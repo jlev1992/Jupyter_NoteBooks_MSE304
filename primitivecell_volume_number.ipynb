{
 "cells": [
  {
   "cell_type": "markdown",
   "metadata": {},
   "source": [
    "Problem Code: primitivecell_volume_number\n",
    "\n",
    "Solution by Joshua Leveillee\n",
    "\n",
    "Problem Statement\n",
    "\n",
    "<p>\n",
    "The lattice structure of a material is defined by the primitive vectors\n",
    "</p>\n",
    "<p>\n",
    "$\\vec{v}_1=\\{ a ,0,0\\},$\n",
    "</p>\n",
    "<p>\n",
    "$\\vec{v}_2=\\{ b , c , 0 \\},$\n",
    "</p>\n",
    "<p>\n",
    "$\\vec{v}_3=\\{ d , e , f \\}$.\n",
    "</p>\n",
    "<p>\n",
    "All lengths are given in nm, and all atoms are equivalent in this lattice.\n",
    "</p>\n",
    "<p>\n",
    "What is the number density of atoms in this material?\n",
    "</p>\n",
    "\n",
    "Solution: \n",
    "\n",
    "The first order of business is to find the volume of this unit cell. The volume of parallelepiped (cell) defined by three vectors is given by:\n",
    "\n",
    "\\begin{equation}\n",
    "V = \\left ( \\vec{v}_1 \\times \\vec{v}_2 \\right ) \\cdot \\vec{v}_3 \n",
    "\\end{equation}\n",
    "\n",
    "Following this, we find:\n",
    "\n",
    "\\begin{equation}\n",
    "V = \\begin{vmatrix}\n",
    " \\vec{v}_{1y} & \\vec{v}_{1z} \\\\\n",
    " \\vec{v}_{2y} & \\vec{v}_{2z} \\notag\n",
    "\\end{vmatrix} \\vec{v}_{3x} -\n",
    "\\begin{vmatrix}\n",
    " \\vec{v}_{1x} & \\vec{v}_{1z} \\\\\n",
    " \\vec{v}_{2x} & \\vec{v}_{2z} \\notag\n",
    "\\end{vmatrix} \\vec{v}_{3y} +\n",
    "\\begin{vmatrix}\n",
    " \\vec{v}_{1x} & \\vec{v}_{1y} \\\\\n",
    " \\vec{v}_{2x} & \\vec{v}_{2y} \\notag\n",
    "\\end{vmatrix} \\vec{v}_{3z}\n",
    "\\end{equation}\n",
    "\n",
    "All terms except for the final are zero, and the final term is:\n",
    "\n",
    "\\begin{equation}\n",
    "V = \n",
    "\\begin{vmatrix}\n",
    " \\vec{v}_{1x} & \\vec{v}_{1y} \\\\\n",
    " \\vec{v}_{2x} & \\vec{v}_{2y} \\notag\n",
    "\\end{vmatrix}  \\vec{v}_{3z} =\n",
    "\\begin{vmatrix}\n",
    " a & 0 \\\\\n",
    " b & c \\notag\n",
    "\\end{vmatrix} \\cdot f = (a\\cdot c \\cdot f)\n",
    "\\end{equation}\n",
    "\n",
    "Thus, since we know there is one atom per unit cell, the final density of atoms per volume if $1/(a\\cdot c \\cdot f)$.\n",
    "\n",
    "Remember to convert nm$^{-3}$ to cm$^{-3}$."
   ]
  },
  {
   "cell_type": "code",
   "execution_count": 1,
   "metadata": {},
   "outputs": [
    {
     "name": "stdout",
     "output_type": "stream",
     "text": [
      "The number of atoms per cubic cm is  6.3300754544994174e-21\n"
     ]
    }
   ],
   "source": [
    "a = 0.52\n",
    "c = 0.49\n",
    "f = 0.62\n",
    "\n",
    "V = (a*c*f)\n",
    "V = V*1.E21 #Convert to cubic cm \n",
    "\n",
    "n = 1./V\n",
    "\n",
    "print('The number of atoms per cubic cm is ',n)"
   ]
  },
  {
   "cell_type": "code",
   "execution_count": null,
   "metadata": {},
   "outputs": [],
   "source": []
  }
 ],
 "metadata": {
  "kernelspec": {
   "display_name": "Python 3",
   "language": "python",
   "name": "python3"
  },
  "language_info": {
   "codemirror_mode": {
    "name": "ipython",
    "version": 3
   },
   "file_extension": ".py",
   "mimetype": "text/x-python",
   "name": "python",
   "nbconvert_exporter": "python",
   "pygments_lexer": "ipython3",
   "version": "3.7.1"
  }
 },
 "nbformat": 4,
 "nbformat_minor": 2
}
