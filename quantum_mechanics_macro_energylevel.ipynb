{
 "cells": [
  {
   "cell_type": "markdown",
   "metadata": {},
   "source": [
    "Problem Code: quantum_mechanics_macro_energylevel\n",
    "\n",
    "Solution by Joshua Leveillee\n",
    "\n",
    "Problem Statement: Consider an object with a mass of $m$ grams that is confined between two walls separated by a distance of $L$ meters. If the object is moving with a speed of $v$ m/s, what is the quantum number $n$ of the object?\n",
    "\n",
    "Solution: We simply have to apply the equation of the energy of a particle in an infinite well. Let's assume there all energy is kinetic. Thus, the $KE$ of the ball is:\n",
    "\n",
    "\\begin{equation}\n",
    "E = [KE] = \\frac{1}{2}mv^2\n",
    "\\end{equation}\n",
    "\n",
    "If we want to define this energy in terms of a confined quantum particle, we need to express the energy as:\n",
    "\n",
    "\\begin{equation}\n",
    "E = \\frac{\\hbar^2 n^2 \\pi^2}{2mL^2}\n",
    "\\end{equation}\n",
    "\n",
    "Now, equating these two, we can solve for the quantum number $n$:\n",
    "\n",
    "\\begin{equation}\n",
    "n = \\frac{mvL}{\\hbar \\pi}\n",
    "\\end{equation}"
   ]
  },
  {
   "cell_type": "code",
   "execution_count": 1,
   "metadata": {},
   "outputs": [
    {
     "name": "stdout",
     "output_type": "stream",
     "text": [
      "4.098964058742841e+34\n"
     ]
    }
   ],
   "source": [
    "##Inputs##\n",
    "L = 7. # length of well in meters\n",
    "m = 194. # mass of ball in grams\n",
    "m = m*1E-3 #convert to kg\n",
    "v = 10. #velocity of ball in m/s\n",
    "hbar = 1.0545718E-34 #hbar in m^2 kg/s\n",
    "pi = 3.14159\n",
    "\n",
    "n = (m*v*L)/(hbar*pi)\n",
    "\n",
    "print('The quantum number n of the system is',n)"
   ]
  },
  {
   "cell_type": "code",
   "execution_count": null,
   "metadata": {},
   "outputs": [],
   "source": []
  }
 ],
 "metadata": {
  "kernelspec": {
   "display_name": "Python 3",
   "language": "python",
   "name": "python3"
  },
  "language_info": {
   "codemirror_mode": {
    "name": "ipython",
    "version": 3
   },
   "file_extension": ".py",
   "mimetype": "text/x-python",
   "name": "python",
   "nbconvert_exporter": "python",
   "pygments_lexer": "ipython3",
   "version": "3.7.1"
  }
 },
 "nbformat": 4,
 "nbformat_minor": 2
}
