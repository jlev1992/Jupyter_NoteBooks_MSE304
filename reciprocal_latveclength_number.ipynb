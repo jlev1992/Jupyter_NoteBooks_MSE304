{
 "cells": [
  {
   "cell_type": "markdown",
   "metadata": {},
   "source": [
    "Problem Code: reciprocal_latveclength_number\n",
    "\n",
    "Solution by Joshua Leveillee\n",
    "\n",
    "Problem: \n",
    "\n",
    "<p>\n",
    "The primitive translation vectors of the hexagonal space lattice may be taken as:  \n",
    "</p>\n",
    "<p>\n",
    "$\\vec{a}_1 = \\frac{3}{ n }a \\vec{x} + \\frac{\\sqrt{3}}{ n }a \\vec{y}$\n",
    "</p>\n",
    "<p>\n",
    "$\\vec{a}_2 = \\frac{-3}{ n }a \\vec{x} + \\frac{\\sqrt{3}}{ n }a \\vec{y}$\n",
    "</p>\n",
    "<p>\n",
    "$\\vec{a}_3 = c \\vec{z}$\n",
    "</p>\n",
    "<p>\n",
    "How long are the in-plane reciprocal lattice vectors? Their length is\n",
    "the same. Give your answer to 3 decimal places.\n",
    "</p>\n",
    "<p>\n",
    "Hint: The reciprocal vectors $\\vec{b}$ follow from the direct-lattice\n",
    "vectors $\\vec{a}$ according to: $$\\vec{b}_i = 2\\pi\\frac{\\vec{a}_j\\times\n",
    "\\vec{a}_k}{\\vec{a}_i\\cdot\\left(\\vec{a}_j\\times \\vec{a}_k\\right)}$$\n",
    "</p>\n",
    "<p>\n",
    "Your solution: <input data-instavalue=\"submittedAnswer.asval\" /> $\\,\\frac{2\\pi}{a}$.\n",
    "</p>\n",
    "\n",
    "_________________________________\n",
    "\n",
    "Solution:\n",
    "\n",
    "First, we need to calculate the recipricol lattice vectors, starting with $\\vec{b}_1$:\n",
    "\n",
    "\\begin{equation}\n",
    "\\vec{b}_1 = 2\\pi \\frac{a_2 \\times a_3}{a_1 \\cdot (a_2 \\times a_3)} = 2\\pi \\frac{\\frac{\\sqrt{3}}{n}ac\\hat{x}+\\frac{3}{n}ac\\hat{y}}{ \\left ( \\frac{3}{n}ac\\hat{x}+\\frac{\\sqrt{3}}{n}ac\\hat{y} \\right ) \\cdot \\left ( \\frac{\\sqrt{3}}{n}ac\\hat{x}+\\frac{3}{n}ac\\hat{y} \\right )} = \\frac{2\\pi}{a}\\left ( \\frac{1}{6}n\\hat{x}+\\frac{1}{2\\sqrt{3}}n\\hat{y} \\right )\n",
    "\\end{equation}\n",
    "\n",
    "It turns out, this is one of the in-plane vectors. To confirm this, one can calculate $\\vec{b}_3$ and see it only has components in the $z$-direction. \n",
    "\n",
    "The magnitude of $\\vec{b}_1$ is:\n",
    "\n",
    "\\begin{equation}\n",
    "|\\vec{b}_1| = \\frac{2\\pi}{a}\\sqrt{\\frac{1}{36}n^2+\\frac{1}{2\\sqrt{3}}n^2} = \\frac{2\\pi}{a}\\sqrt{\\frac{1}{36}n^2+\\frac{3}{36}n^2} = \\frac{2\\pi}{a}\\frac{n}{3}\n",
    "\\end{equation}\n",
    "\n",
    "Thus, the in-plane recipricol lattice vector length is $n/3$."
   ]
  },
  {
   "cell_type": "code",
   "execution_count": 1,
   "metadata": {},
   "outputs": [
    {
     "name": "stdout",
     "output_type": "stream",
     "text": [
      "The length of the in-plane recip. lattice vector is  1.0\n"
     ]
    }
   ],
   "source": [
    "## Inputs ##\n",
    "n = 3\n",
    "\n",
    "print('The length of the in-plane recip. lattice vector is ',n/3)"
   ]
  },
  {
   "cell_type": "code",
   "execution_count": null,
   "metadata": {},
   "outputs": [],
   "source": []
  }
 ],
 "metadata": {
  "kernelspec": {
   "display_name": "Python 3",
   "language": "python",
   "name": "python3"
  },
  "language_info": {
   "codemirror_mode": {
    "name": "ipython",
    "version": 3
   },
   "file_extension": ".py",
   "mimetype": "text/x-python",
   "name": "python",
   "nbconvert_exporter": "python",
   "pygments_lexer": "ipython3",
   "version": "3.7.1"
  }
 },
 "nbformat": 4,
 "nbformat_minor": 2
}
