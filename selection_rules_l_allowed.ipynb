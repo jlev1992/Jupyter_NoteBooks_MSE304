{
 "cells": [
  {
   "cell_type": "markdown",
   "metadata": {},
   "source": [
    "Problem Code: selection_rules_l_allowed\n",
    "\n",
    "Solution by Joshua Leveillee\n",
    "\n",
    "Problem: An electron is in an $(n,l)$ state of hydrogen and decays to a lower energy state by emission of a photon. How many different $(n',l')$ are optically accessible to the electron?\n",
    "\n",
    "This requires the drawing of a diagram. Remember, $l$ has to chance by $\\pm 1$, and $n$ has to move lower. Thus, find all connections to states from the original $(n,l)$ that satisfy this conditions. "
   ]
  },
  {
   "cell_type": "code",
   "execution_count": null,
   "metadata": {},
   "outputs": [],
   "source": []
  }
 ],
 "metadata": {
  "kernelspec": {
   "display_name": "Python 3",
   "language": "python",
   "name": "python3"
  },
  "language_info": {
   "codemirror_mode": {
    "name": "ipython",
    "version": 3
   },
   "file_extension": ".py",
   "mimetype": "text/x-python",
   "name": "python",
   "nbconvert_exporter": "python",
   "pygments_lexer": "ipython3",
   "version": "3.7.1"
  }
 },
 "nbformat": 4,
 "nbformat_minor": 2
}
