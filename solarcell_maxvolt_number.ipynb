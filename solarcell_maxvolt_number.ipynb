{
 "cells": [
  {
   "cell_type": "markdown",
   "metadata": {},
   "source": [
    "Question Code: solarcell_maxvolt_number\n",
    "\n",
    "Solution by Joshua Leveillee\n",
    "\n",
    "Question:\n",
    "\n",
    "<p>\n",
    "The $I$-$V$ curve of a solar cell is given by\n",
    "</p>\n",
    "<p>\n",
    "$V=\\frac{kT}{q}\\ln{\\left(1+\\frac{I_{sc}+I}{I_{th}}\\right)}$.\n",
    "</p>\n",
    "<p>\n",
    "Maximizing the power will lead to the following expression, where\n",
    "$V_m$ is the voltage for maximum power:\n",
    "</p>\n",
    "<p>\n",
    "$\\left(1+\\frac{q}{kT}V_m\\right)\\cdot\\exp{\\left(\\frac{qV_m}{kT}\\right)}=1+\\frac{I_{sc}}{I_{th}}$.\n",
    "</p>\n",
    "<p>\n",
    "Assume a solar cell with $I_{th}$ nA and short-circuit\n",
    "current of $I_{sc}$ mA. Also assume $V_{m}\\gg\n",
    "\\frac{kT}{q}$ and $I_{sc}\\gg I_{th}$.\n",
    "</p>\n",
    "<p>\n",
    "What is the voltage for maximum power at 300 K? \n",
    "</p>\n",
    "\n",
    "____\n",
    "\n",
    "Solution:\n",
    "\n",
    "We can use the above conditions to approximate the equation for $V_m$ as:\n",
    "\n",
    "\\begin{equation}\n",
    "\\frac{qV_m}{k_B T}e^{\\frac{qV_m}{k_B T}}= \\frac{I_{sc}}{I_{th}}\n",
    "\\end{equation}\n",
    "\n",
    "For this problem, you have to solve Lambert's W equation $W(x)$ which solves the equation $xe^x$. The value of $W$. "
   ]
  },
  {
   "cell_type": "code",
   "execution_count": null,
   "metadata": {},
   "outputs": [],
   "source": []
  }
 ],
 "metadata": {
  "kernelspec": {
   "display_name": "Python 3",
   "language": "python",
   "name": "python3"
  },
  "language_info": {
   "codemirror_mode": {
    "name": "ipython",
    "version": 3
   },
   "file_extension": ".py",
   "mimetype": "text/x-python",
   "name": "python",
   "nbconvert_exporter": "python",
   "pygments_lexer": "ipython3",
   "version": "3.7.1"
  }
 },
 "nbformat": 4,
 "nbformat_minor": 2
}
