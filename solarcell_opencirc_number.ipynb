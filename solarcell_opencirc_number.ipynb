{
 "cells": [
  {
   "cell_type": "markdown",
   "metadata": {},
   "source": [
    "Problem Code: solarcell_opencirc_number\n",
    "\n",
    "Solution by Joshua Leveillee\n",
    "\n",
    "Question:\n",
    "\n",
    "<p>\n",
    "A solar cell under an illumination of $\\mathbf{I}_1$\n",
    "Wm$^{-2}$ has a short circuit current of $I_{sc1}$ mA and an\n",
    "open circuit output voltage of $V_{oc1}$ V. Assume that the\n",
    "solar cell is at 300 K, the ideality factor is $\\eta$, and\n",
    "$V_{oc}\\gg \\frac{\\eta kT}{q}$.\n",
    "</p>\n",
    "<p>\n",
    "What is the open circuit voltage when the light intensity is\n",
    "$\\mathbf{I}_2$ Wm$^{-2}$?\n",
    "</p>\n",
    "\n",
    "_____\n",
    "\n",
    "Solution:\n",
    "\n",
    "Let's begin with the I-V curve for the solar cell:\n",
    "\n",
    "\\begin{equation}\n",
    "I = -I_{sc}+I_0\\left (  e^{\\frac{eV}{\\eta k_B T}}-1 \\right )\n",
    "\\end{equation}\n",
    "\n",
    "When $V=V_{oc}$, the current is 0:\n",
    "\n",
    "\\begin{equation}\n",
    "0 = -I_{sc}+I_0\\left (  e^{\\frac{eV_{oc}}{\\eta k_B T}}-1 \\right )\n",
    "\\end{equation}\n",
    "\n",
    "Using the condition $V_{oc}\\gg \\frac{\\eta kT}{q}$, we can write the equation as:\n",
    "\n",
    "\\begin{equation}\n",
    "V_{oc} = \\frac{\\eta k_B T}{e}\\ln\\left ( \\frac{I_{sc}}{I_0} \\right )\n",
    "\\end{equation}\n",
    "\n",
    "Since $I_{sc}$ is proportinaly to intensity $I$, we can relate the short-circuit currents at two intensities by:\n",
    "\n",
    "\\begin{equation}\n",
    "I_{sc2} = I_{sc1}\\frac{\\mathbf{I}_2}{\\mathbf{I}_1}\n",
    "\\end{equation}\n",
    "\n",
    "We can also relate the difference to voltage between two illuminations by:\n",
    "\n",
    "\\begin{equation}\n",
    "V_{oc2}-V_{oc1} = \\frac{\\eta k_B T}{e}\\ln\\left ( \\frac{I_{sc2}}{I_0} \\right ) - \\frac{\\eta k_B T}{e}\\ln\\left ( \\frac{I_{sc1}}{I_0} \\right )= \\frac{\\eta k_B T}{e}\\ln \\left ( \\frac{I_{sc2}}{I_{sc1}} \\right) = \\frac{\\eta k_B T}{e}\\ln \\left ( \\frac{\\mathbf{I}_{2}}{\\mathbf{I}_{1}} \\right)\n",
    "\\end{equation} \n",
    "\n",
    "So, the open circuit voltage under the second illumination is:\n",
    "\n",
    "\\begin{equation}\n",
    "V_{oc2} = V_{oc2}+ \\frac{\\eta k_B T}{e}\\ln \\left ( \\frac{\\mathbf{I}_{2}}{\\mathbf{I}_{1}} \\right)\n",
    "\\end{equation} "
   ]
  },
  {
   "cell_type": "code",
   "execution_count": 7,
   "metadata": {},
   "outputs": [
    {
     "name": "stdout",
     "output_type": "stream",
     "text": [
      "The open-circuit voltage under the second illuminatin intensity is 0.5934796086342635 Volts\n"
     ]
    }
   ],
   "source": [
    "import numpy as np\n",
    "### INPUTS ###\n",
    "INT_1 = 1044.0 ## Wm^-2\n",
    "INT_2 = 1142.0 ## Wm^-2\n",
    "T = 300.0\n",
    "k = 1.380649E-23\n",
    "e = 1.602E-19\n",
    "Voc1 = 0.59 ## Volts\n",
    "eta = 1.5\n",
    "\n",
    "Voc2 = Voc1+(eta*k*T/e)*np.log(INT_2/INT_1)\n",
    "\n",
    "print('The open-circuit voltage under the second illuminatin intensity is',Voc2,'Volts')"
   ]
  },
  {
   "cell_type": "code",
   "execution_count": null,
   "metadata": {},
   "outputs": [],
   "source": []
  }
 ],
 "metadata": {
  "kernelspec": {
   "display_name": "Python 3",
   "language": "python",
   "name": "python3"
  },
  "language_info": {
   "codemirror_mode": {
    "name": "ipython",
    "version": 3
   },
   "file_extension": ".py",
   "mimetype": "text/x-python",
   "name": "python",
   "nbconvert_exporter": "python",
   "pygments_lexer": "ipython3",
   "version": "3.7.1"
  }
 },
 "nbformat": 4,
 "nbformat_minor": 2
}
