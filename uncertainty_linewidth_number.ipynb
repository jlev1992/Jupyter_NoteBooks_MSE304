{
 "cells": [
  {
   "cell_type": "markdown",
   "metadata": {},
   "source": [
    "Problem Code: uncertainty_linewidth_number\n",
    "\n",
    "Solution by Joshua Leveillee\n",
    "\n",
    "Problem Statement: An excited argon ion in a gas discharge radiates a spectral line of wavelength $\\lambda$ nm. The transition from the excited to the ground state that produces this radiation takes an average time of $\\Delta t$. What is the inherent width of the spectral line?\n",
    "\n",
    "Let's start by calling the uncertainty principle between energy and time:\n",
    "\n",
    "\\begin{equation}\n",
    "\\Delta E_{LW} \\Delta t \\approx h\n",
    "\\end{equation}\n",
    "\n",
    "Th subscript $LW$ indicates that this is the energy width of the emission line. $\\Delta t$ is the time it takes the emission to occur. Now, we know the wavelength of the emission is:\n",
    "\n",
    "\\begin{equation}\n",
    "E_{ph} = \\frac{hc}{\\lambda}\n",
    "\\end{equation}\n",
    "\n",
    "The change in emission energy per change in wavelength is given by take the derivatives of both sides:\n",
    "\n",
    "\\begin{equation}\n",
    "dE_{ph} = -\\frac{hc}{\\lambda^2}(d\\lambda)\n",
    "\\end{equation}\n",
    "\n",
    "Since we are dealing with absolute wavelengths and energies, we will drop the negative sign. The change in emission energy $dE_{ph}=\\Delta E_{LW}$ gives the uncertainty in the spectral linewidth $d\\lambda=\\Delta \\lambda$. We can rewrite $dE_{ph}=\\Delta E_{LW} = \\frac{h}{\\Delta t}$ and solve for $\\Delta \\lambda$:\n",
    "\n",
    "\\begin{equation}\n",
    "\\frac{h}{\\Delta t} = \\frac{hc}{\\lambda^2}{\\Delta \\lambda}\n",
    "\\end{equation}\n",
    "\n",
    "\\begin{equation}\n",
    "\\Delta \\lambda = \\frac{\\lambda^2}{\\Delta t c}\n",
    "\\end{equation}\n",
    "\n"
   ]
  },
  {
   "cell_type": "code",
   "execution_count": 4,
   "metadata": {},
   "outputs": [
    {
     "name": "stdout",
     "output_type": "stream",
     "text": [
      "The spectral linewidth in nm is  0.00027\n"
     ]
    }
   ],
   "source": [
    "## Inputs ##\n",
    "dt = 1.e-8 ## emission time in seconds\n",
    "c = 3.E8 ## speed of light\n",
    "L = 900. # emission wavelength in nm\n",
    "L = L*1.e-9\n",
    "\n",
    "dL = L*L/(dt*c)\n",
    "\n",
    "print('The spectral linewidth in nm is ',dL*1E9)"
   ]
  },
  {
   "cell_type": "code",
   "execution_count": null,
   "metadata": {},
   "outputs": [],
   "source": []
  }
 ],
 "metadata": {
  "kernelspec": {
   "display_name": "Python 3",
   "language": "python",
   "name": "python3"
  },
  "language_info": {
   "codemirror_mode": {
    "name": "ipython",
    "version": 3
   },
   "file_extension": ".py",
   "mimetype": "text/x-python",
   "name": "python",
   "nbconvert_exporter": "python",
   "pygments_lexer": "ipython3",
   "version": "3.7.1"
  }
 },
 "nbformat": 4,
 "nbformat_minor": 2
}
