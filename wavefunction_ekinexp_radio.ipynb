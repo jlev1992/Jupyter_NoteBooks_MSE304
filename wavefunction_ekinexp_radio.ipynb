{
 "cells": [
  {
   "cell_type": "markdown",
   "metadata": {},
   "source": [
    "Problem Code: wavefunction_ekinexp_radio\n",
    "\n",
    "Solution by Joshua Leveillee\n",
    "\n",
    "Problem Statement: Consider the correctly normalized wave function in 1 dimension given by $\\psi(x)=\\sqrt{\\frac{15}{16b^5}}(b^2-x^2)$ for $-b<x<b$. What is the expectation value of the kinetic energy $\\langle \\hat{T} \\rangle = \\langle -\\frac{\\hbar}{2m}\\frac{d^2}{dx^2} \\rangle $. \n",
    "\n",
    "Solution: This problem involves a fairly simply integral to find the expectation value. First, let's set up the problem:\n",
    "\n",
    "\\begin{equation}\n",
    "\\langle \\hat{T} \\rangle = -\\frac{\\hbar}{2m}\\frac{15}{16b^5}\\int_{b}^{-b}(b^2-x^2)\\frac{d^2}{dx^2}(b^2-x^2)dx\n",
    "\\end{equation}\n",
    "\n",
    "Carrying out the second order derivative:\n",
    "\n",
    "\\begin{equation}\n",
    "\\langle \\hat{T} \\rangle = \\frac{2\\hbar}{2m}\\frac{15}{16b^5}\\int_{b}^{-b}(b^2-x^2)dx\n",
    "\\end{equation}\n",
    "\n",
    "The integral is straightforward, and gives:\n",
    "\n",
    "\\begin{equation}\n",
    "\\langle \\hat{T} \\rangle = \\frac{2\\hbar}{2m}\\frac{15}{16b^5}\\left [ 2b^3 - \\frac{2}{3}b^3 \\right ]\n",
    "\\end{equation}\n",
    "\n",
    "Simplifying:\n",
    "\n",
    "\\begin{equation}\n",
    "\\langle \\hat{T} \\rangle = \\frac{\\hbar}{2m}\\frac{5}{2b^2}\n",
    "\\end{equation}"
   ]
  },
  {
   "cell_type": "code",
   "execution_count": null,
   "metadata": {},
   "outputs": [],
   "source": []
  }
 ],
 "metadata": {
  "kernelspec": {
   "display_name": "Python 3",
   "language": "python",
   "name": "python3"
  },
  "language_info": {
   "codemirror_mode": {
    "name": "ipython",
    "version": 3
   },
   "file_extension": ".py",
   "mimetype": "text/x-python",
   "name": "python",
   "nbconvert_exporter": "python",
   "pygments_lexer": "ipython3",
   "version": "3.7.1"
  }
 },
 "nbformat": 4,
 "nbformat_minor": 2
}
