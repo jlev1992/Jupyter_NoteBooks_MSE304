{
 "cells": [
  {
   "cell_type": "markdown",
   "metadata": {},
   "source": [
    "Problem Code: wavefunction_shiftedpotential_number\n",
    "\n",
    "Solution by Joshua Leveillee\n",
    "\n",
    "Electrons in a nanowire (NW) can often be treated as 1-dimensional, since they are strongly confined in two dimensions and can only move in the remaining dimension. Consider an isolated NW of length L nm with one free electron (assume the other electrons are tightly bound to their atoms and don’t play a role). The electron cannot leave the NW, hence, we describe the NW by an infinite square well potential given by:\n",
    "\n",
    "V = 0 for -L/2 <= x >= L/2\n",
    "V = infinity outside of these bounds.\n",
    "\n",
    "What is the value of the wave function (both real and imaginary parts) \n",
    "\n",
    "Give the infinite well boundary conditions, we know both real and imaginary parts of the WF at L/2 must be 0."
   ]
  }
 ],
 "metadata": {
  "kernelspec": {
   "display_name": "Python 3",
   "language": "python",
   "name": "python3"
  },
  "language_info": {
   "codemirror_mode": {
    "name": "ipython",
    "version": 3
   },
   "file_extension": ".py",
   "mimetype": "text/x-python",
   "name": "python",
   "nbconvert_exporter": "python",
   "pygments_lexer": "ipython3",
   "version": "3.7.1"
  }
 },
 "nbformat": 4,
 "nbformat_minor": 2
}
