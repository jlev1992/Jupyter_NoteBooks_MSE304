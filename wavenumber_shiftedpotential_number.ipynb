{
 "cells": [
  {
   "cell_type": "markdown",
   "metadata": {},
   "source": [
    "Problem Code: wavenumber_shiftedpotential_number\n",
    "\n",
    "Solution by Joshua Leveillee\n",
    "\n",
    "Electrons in a nanowire (NW) can often be treated as 1-dimensional, since they are strongly confined in two dimensions and can only move in the remaining dimension. Consider an isolated NW of length L nm with one free electron (assume the other electrons are tightly bound to their atoms and don’t play a role). The electron cannot leave the NW, hence, we describe the NW by an infinite square well potential given by:\n",
    "\n",
    "V = 0 for -L/2 <= x >= L/2 V = infinity outside of these bounds.\n",
    "\n",
    "When the wave function is solved for in the form $\\psi(x)=Ae^{ikx}+Be^{-ikx}$, what is the value of the the wave vector k?\n",
    "\n",
    "We know the value of the WF at the bounds of the infinite potential well must be equal to 0. Thus, we can set up the equations:\n",
    "\n",
    "\\begin{equation}\n",
    "\\psi(L/2)=0=Ae^{ik\\frac{L}{2}}+Be^{-ik\\frac{L}{2}}\n",
    "\\end{equation}\n",
    "\n",
    "\\begin{equation}\n",
    "\\psi(-L/2)=0=Ae^{-ik\\frac{L}{2}}+Be^{ik\\frac{L}{2}}\n",
    "\\end{equation}\n",
    "\n",
    "Thus, the ampltude of each term must go to 0. Using Euler's equation $e^{2 i n\\pi}-1=0$ and $e^{i(2n+1)\\pi}+1=0$ for $n=0,1,2,...$, we can pick k to satify this equation to be $k=\\frac{n\\pi}{L}$.\n"
   ]
  },
  {
   "cell_type": "code",
   "execution_count": 4,
   "metadata": {},
   "outputs": [
    {
     "name": "stdout",
     "output_type": "stream",
     "text": [
      "The wave vector is  0.24639921568627451  nm^-1\n"
     ]
    }
   ],
   "source": [
    "##Inputs #####\n",
    "L = 51 ## Len of well in nm\n",
    "n = 4 ## primary quantum number of the WF\n",
    "pi = 3.14159 # pi\n",
    "\n",
    "k = n*pi/L\n",
    "\n",
    "print('The wave vector is ',k,' nm^-1')"
   ]
  },
  {
   "cell_type": "code",
   "execution_count": null,
   "metadata": {},
   "outputs": [],
   "source": []
  }
 ],
 "metadata": {
  "kernelspec": {
   "display_name": "Python 3",
   "language": "python",
   "name": "python3"
  },
  "language_info": {
   "codemirror_mode": {
    "name": "ipython",
    "version": 3
   },
   "file_extension": ".py",
   "mimetype": "text/x-python",
   "name": "python",
   "nbconvert_exporter": "python",
   "pygments_lexer": "ipython3",
   "version": "3.7.1"
  }
 },
 "nbformat": 4,
 "nbformat_minor": 2
}
